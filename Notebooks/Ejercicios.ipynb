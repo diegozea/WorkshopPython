{
 "cells": [
  {
   "cell_type": "markdown",
   "metadata": {
    "slideshow": {
     "slide_type": "slide"
    }
   },
   "source": [
    "# Ejercicios"
   ]
  },
  {
   "cell_type": "markdown",
   "metadata": {
    "slideshow": {
     "slide_type": "slide"
    }
   },
   "source": [
    "### I. Reescribir la función usando *list comprehension*"
   ]
  },
  {
   "cell_type": "code",
   "execution_count": 2,
   "metadata": {
    "collapsed": false,
    "slideshow": {
     "slide_type": "fragment"
    }
   },
   "outputs": [],
   "source": [
    "from os import listdir, stat\n",
    "from os import path \n",
    "\n",
    "def listaralineamientos(direccion, extension=\".fasta\", vacios=False):\n",
    "    alns = []\n",
    "    for nombre in listdir(direccion):\n",
    "        if nombre[-len(extension):] == extension:\n",
    "            if vacios or stat(path.join(direccion, nombre)).st_size > 0:\n",
    "                alns.append(nombre)\n",
    "    return alns\n",
    "\n",
    "def listaralineamientos_lc(direccion, extension=\".fasta\", vacios=False):\n",
    "    pass"
   ]
  },
  {
   "cell_type": "code",
   "execution_count": 3,
   "metadata": {
    "collapsed": false
   },
   "outputs": [
    {
     "data": {
      "text/plain": [
       "['ortologos_clean.fasta',\n",
       " 'oma_prot.fasta',\n",
       " 'toxo.fasta',\n",
       " 'ortologos.fasta',\n",
       " 'sequence.fasta']"
      ]
     },
     "execution_count": 3,
     "metadata": {},
     "output_type": "execute_result"
    }
   ],
   "source": [
    "listaralineamientos(\".\")"
   ]
  }
 ],
 "metadata": {
  "celltoolbar": "Slideshow",
  "kernelspec": {
   "display_name": "Python 2",
   "language": "python",
   "name": "python2"
  },
  "language_info": {
   "codemirror_mode": {
    "name": "ipython",
    "version": 2
   },
   "file_extension": ".py",
   "mimetype": "text/x-python",
   "name": "python",
   "nbconvert_exporter": "python",
   "pygments_lexer": "ipython2",
   "version": "2.7.12"
  }
 },
 "nbformat": 4,
 "nbformat_minor": 0
}
