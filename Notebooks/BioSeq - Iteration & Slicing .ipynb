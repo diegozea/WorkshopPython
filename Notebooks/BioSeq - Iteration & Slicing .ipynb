{
 "cells": [
  {
   "cell_type": "markdown",
   "metadata": {},
   "source": [
    "Uno puede usar *slicing* para obtener porciones de un objeto de tipo *Seq*, del mismo modo que se puede hacer *slicing* de otros objetos de *Python* (vean la página 25 de este [manual de Python en español](https://launchpadlibrarian.net/18980633/Python%20para%20todos.pdf)). Esto puede ser útil a la hora de **obtener los codones de una secuencia**, por ejemplo. Eso es lo que vamos a hacer acá ;)"
   ]
  },
  {
   "cell_type": "code",
   "execution_count": 1,
   "metadata": {
    "collapsed": false
   },
   "outputs": [],
   "source": [
    "from Bio.Seq import Seq\n",
    "from Bio.Alphabet import IUPAC"
   ]
  },
  {
   "cell_type": "markdown",
   "metadata": {},
   "source": [
    "Para poder testar que nuestra implementación sea correcta, siempre es útil tener presente una serie de casos que testean nuestro código. En este caso serán una serie de objetos de la clase *Seq* que tiene un número de codones que conocemos.\n"
   ]
  },
  {
   "cell_type": "code",
   "execution_count": 2,
   "metadata": {
    "collapsed": false
   },
   "outputs": [],
   "source": [
    "test = [Seq(\"AAA\", IUPAC.unambiguous_dna ), Seq(\"AAAT\", IUPAC.unambiguous_dna ), \n",
    "        Seq(\"AAATT\", IUPAC.unambiguous_dna ), Seq(\"AAATTT\", IUPAC.unambiguous_dna ),\n",
    "        Seq(\"AAATTTA\", IUPAC.unambiguous_dna )]"
   ]
  },
  {
   "cell_type": "markdown",
   "metadata": {},
   "source": [
    "Cuando se va modificando el código, es útil ir testeando los ejemplos. En este caso pruebo mi implementación dentro de un *loop* sobre los casos de ejemplo. Ustedes pueden usar la manera que les quede más cómoda, por ejemplo; generando una  función y cambiando a mano los casos de ejemplo al llamarla.\n",
    "Es útil también ir imprimiendo los valores que contienen las variables a medida que se ejecuta el código. Los va a ayudar a entender que esta pasando y a ver posibles errores."
   ]
  },
  {
   "cell_type": "code",
   "execution_count": 3,
   "metadata": {
    "collapsed": false
   },
   "outputs": [
    {
     "name": "stdout",
     "output_type": "stream",
     "text": [
      "-------\n",
      "dna: AAA\n",
      "len(dna): 3\n",
      "n: 0\n",
      "n+3: 3\n",
      "codon: AAA\n",
      "-------\n",
      "dna: AAAT\n",
      "len(dna): 4\n",
      "n: 0\n",
      "n+3: 3\n",
      "codon: AAA\n",
      "-------\n",
      "dna: AAATT\n",
      "len(dna): 5\n",
      "n: 0\n",
      "n+3: 3\n",
      "codon: AAA\n",
      "-------\n",
      "dna: AAATTT\n",
      "len(dna): 6\n",
      "n: 0\n",
      "n+3: 3\n",
      "codon: AAA\n",
      "n: 3\n",
      "n+3: 6\n",
      "codon: TTT\n",
      "-------\n",
      "dna: AAATTTA\n",
      "len(dna): 7\n",
      "n: 0\n",
      "n+3: 3\n",
      "codon: AAA\n",
      "n: 3\n",
      "n+3: 6\n",
      "codon: TTT\n"
     ]
    }
   ],
   "source": [
    "for dna in test:\n",
    "    \n",
    "    # prints para ver el estado de las variables\n",
    "    print( \"-------\" )\n",
    "    print( \"dna: \" + str(dna) )\n",
    "    print( \"len(dna): \" + str(len(dna)) )\n",
    "    \n",
    "    for n in range(0, len(dna)-2, 3): # Iteration\n",
    "        codon = dna[n:(n+3)] # Slicing \n",
    "        \n",
    "        # prints para ver el estado de las variables\n",
    "        print( \"n: \" + str(n) )\n",
    "        print( \"n+3: \" + str(n+3) )\n",
    "        print( \"codon: \" + codon ) "
   ]
  },
  {
   "cell_type": "markdown",
   "metadata": {},
   "source": [
    "Una vez que la implementación es correcta, podemos definir nuestra función y usarla:"
   ]
  },
  {
   "cell_type": "code",
   "execution_count": 4,
   "metadata": {
    "collapsed": false
   },
   "outputs": [],
   "source": [
    "def mostrarcodones(dna):\n",
    "        for n in range(0, len(dna)-2, 3):\n",
    "            print( dna[n:(n+3)] )"
   ]
  },
  {
   "cell_type": "code",
   "execution_count": 5,
   "metadata": {
    "collapsed": false
   },
   "outputs": [
    {
     "name": "stdout",
     "output_type": "stream",
     "text": [
      "AAA\n",
      "TTT\n"
     ]
    }
   ],
   "source": [
    "mostrarcodones( test[-1] )"
   ]
  },
  {
   "cell_type": "markdown",
   "metadata": {},
   "source": [
    "# Ejercicio"
   ]
  },
  {
   "cell_type": "markdown",
   "metadata": {},
   "source": [
    "Escribir una función que en lugar de mostrar en pantalla los codones, retorne una lista de éstos."
   ]
  }
 ],
 "metadata": {
  "kernelspec": {
   "display_name": "Python 2",
   "language": "python",
   "name": "python2"
  },
  "language_info": {
   "codemirror_mode": {
    "name": "ipython",
    "version": 2
   },
   "file_extension": ".py",
   "mimetype": "text/x-python",
   "name": "python",
   "nbconvert_exporter": "python",
   "pygments_lexer": "ipython2",
   "version": "2.7.6"
  }
 },
 "nbformat": 4,
 "nbformat_minor": 0
}
