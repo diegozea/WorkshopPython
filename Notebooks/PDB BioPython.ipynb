{
 "cells": [
  {
   "cell_type": "code",
   "execution_count": 1,
   "metadata": {
    "collapsed": false
   },
   "outputs": [
    {
     "data": {
      "text/html": [
       "<iframe src='http://biopython.org/wiki/The_Biopython_Structural_Bioinformatics_FAQ' width=100% height=500></iframe>"
      ],
      "text/plain": [
       "<IPython.core.display.HTML object>"
      ]
     },
     "execution_count": 1,
     "metadata": {},
     "output_type": "execute_result"
    }
   ],
   "source": [
    "from IPython.display import HTML\n",
    "HTML(\"<iframe src='http://biopython.org/wiki/The_Biopython_Structural_Bioinformatics_FAQ' width=100% height=500></iframe>\")"
   ]
  },
  {
   "cell_type": "code",
   "execution_count": 2,
   "metadata": {
    "collapsed": false
   },
   "outputs": [],
   "source": [
    "from Bio import PDB"
   ]
  },
  {
   "cell_type": "code",
   "execution_count": 3,
   "metadata": {
    "collapsed": false
   },
   "outputs": [],
   "source": [
    "pdblist = PDB.PDBList()"
   ]
  },
  {
   "cell_type": "code",
   "execution_count": 4,
   "metadata": {
    "collapsed": false
   },
   "outputs": [
    {
     "name": "stdout",
     "output_type": "stream",
     "text": [
      "Structure exists: './pdb4ni1.ent' \n"
     ]
    },
    {
     "data": {
      "text/plain": [
       "'./pdb4ni1.ent'"
      ]
     },
     "execution_count": 4,
     "metadata": {},
     "output_type": "execute_result"
    }
   ],
   "source": [
    "pdblist.retrieve_pdb_file(\"4ni1\", pdir=\".\")"
   ]
  },
  {
   "cell_type": "code",
   "execution_count": 5,
   "metadata": {
    "collapsed": false
   },
   "outputs": [
    {
     "name": "stdout",
     "output_type": "stream",
     "text": [
      "HEADER    OXYGEN TRANSPORT                        05-NOV-13   4NI1              \r\n",
      "TITLE     QAUTERNARY R CO-LIGANDED HEMOGLOBIN STRUCTURE IN COMPLEX WITH A THIOL \r\n",
      "TITLE    2 CONTAINING COMPOUND                                                  \r\n",
      "COMPND    MOL_ID: 1;                                                            \r\n",
      "COMPND   2 MOLECULE: HEMOGLOBIN SUBUNIT ALPHA;                                  \r\n",
      "COMPND   3 CHAIN: A;                                                            \r\n",
      "COMPND   4 SYNONYM: ALPHA-GLOBIN, HEMOGLOBIN ALPHA CHAIN;                       \r\n",
      "COMPND   5 MOL_ID: 2;                                                           \r\n",
      "COMPND   6 MOLECULE: HEMOGLOBIN SUBUNIT BETA;                                   \r\n",
      "COMPND   7 CHAIN: B;                                                            \r\n"
     ]
    }
   ],
   "source": [
    "! head pdb4ni1.ent"
   ]
  },
  {
   "cell_type": "code",
   "execution_count": 6,
   "metadata": {
    "collapsed": false
   },
   "outputs": [],
   "source": [
    "parser = PDB.PDBParser()"
   ]
  },
  {
   "cell_type": "code",
   "execution_count": 7,
   "metadata": {
    "collapsed": false
   },
   "outputs": [
    {
     "name": "stderr",
     "output_type": "stream",
     "text": [
      "/usr/lib/python2.7/dist-packages/Bio/PDB/StructureBuilder.py:85: PDBConstructionWarning: WARNING: Chain A is discontinuous at line 2674.\n",
      "  PDBConstructionWarning)\n",
      "/usr/lib/python2.7/dist-packages/Bio/PDB/StructureBuilder.py:85: PDBConstructionWarning: WARNING: Chain B is discontinuous at line 2765.\n",
      "  PDBConstructionWarning)\n",
      "/usr/lib/python2.7/dist-packages/Bio/PDB/StructureBuilder.py:85: PDBConstructionWarning: WARNING: Chain A is discontinuous at line 2842.\n",
      "  PDBConstructionWarning)\n",
      "/usr/lib/python2.7/dist-packages/Bio/PDB/StructureBuilder.py:85: PDBConstructionWarning: WARNING: Chain B is discontinuous at line 2973.\n",
      "  PDBConstructionWarning)\n"
     ]
    }
   ],
   "source": [
    "estructura = parser.get_structure(id=\"4ni1\",file=\"pdb4ni1.ent\")"
   ]
  },
  {
   "cell_type": "code",
   "execution_count": 8,
   "metadata": {
    "collapsed": false
   },
   "outputs": [
    {
     "data": {
      "text/plain": [
       "Bio.PDB.Structure.Structure"
      ]
     },
     "execution_count": 8,
     "metadata": {},
     "output_type": "execute_result"
    }
   ],
   "source": [
    "type(estructura)"
   ]
  },
  {
   "cell_type": "code",
   "execution_count": 9,
   "metadata": {
    "collapsed": false
   },
   "outputs": [
    {
     "data": {
      "text/plain": [
       "{'author': 'M.K.Safo,J.Meadows,T.-P.Ko,A.Nakagawa,W.Zapol',\n",
       " 'compound': {'1': {'chain': 'a',\n",
       "   'misc': '',\n",
       "   'molecule': 'hemoglobin subunit alpha',\n",
       "   'synonym': 'alpha-globin, hemoglobin alpha chain'},\n",
       "  '2': {'chain': 'b',\n",
       "   'misc': '',\n",
       "   'molecule': 'hemoglobin subunit beta',\n",
       "   'synonym': 'beta-globin, hemoglobin beta chain'}},\n",
       " 'deposition_date': '2013-11-05',\n",
       " 'head': 'oxygen transport',\n",
       " 'journal': 'AUTH   A.NAKAGAWA,F.E.LUI,D.WASSAF,R.YEFIDOFF-FREEDMAN,D.CASALENA,AUTH 2 M.A.PALMER,J.MEADOWS,A.MOZZARELLI,L.RONDA,O.ABDULMALIK,AUTH 3 K.D.BLOCH,M.K.SAFO,W.M.ZAPOLTITL   IDENTIFICATION OF A SMALL MOLECULE THAT INCREASES HEMOGLOBINTITL 2 OXYGEN AFFINITY AND REDUCES SS ERYTHROCYTE SICKLING.REF    ACS CHEM.BIOL.                             2014REFN                   ESSN 1554-8937PMID   25061917DOI    10.1021/CB500230B',\n",
       " 'journal_reference': 'a.nakagawa,f.e.lui,d.wassaf,r.yefidoff-freedman,d.casm.a.palmer,j.meadows,a.mozzarelli,l.ronda,o.abdulmalik.d.bloch,m.k.safo,w.m.zapol identification of a small molecule that increases hemoxygen affinity and reduces ss erythrocyte sickling. acs chem.biol. 2014 essn 1554-8937 25061917 10.1021/cb500230b ',\n",
       " 'keywords': 'allosteric, tetramer, oxygen transport, relaxed state, tense state, globin fold, red blood cell',\n",
       " 'name': ' qauternary r co-liganded hemoglobin structure in complex with a thiol containing compound',\n",
       " 'release_date': '2014-09-17',\n",
       " 'resolution': 1.9,\n",
       " 'source': {'1': {'misc': '',\n",
       "   'organism_common': 'human',\n",
       "   'organism_scientific': 'homo sapiens',\n",
       "   'organism_taxid': '9606'},\n",
       "  '2': {'misc': '',\n",
       "   'organism_common': 'human',\n",
       "   'organism_scientific': 'homo sapiens',\n",
       "   'organism_taxid': '9606'}},\n",
       " 'structure_method': 'x-ray diffraction',\n",
       " 'structure_reference': []}"
      ]
     },
     "execution_count": 9,
     "metadata": {},
     "output_type": "execute_result"
    }
   ],
   "source": [
    "estructura.header"
   ]
  },
  {
   "cell_type": "code",
   "execution_count": 10,
   "metadata": {
    "collapsed": false
   },
   "outputs": [
    {
     "name": "stdout",
     "output_type": "stream",
     "text": [
      "<Model id=0>\n"
     ]
    }
   ],
   "source": [
    "for modelo in estructura:\n",
    "    print(modelo)"
   ]
  },
  {
   "cell_type": "code",
   "execution_count": 11,
   "metadata": {
    "collapsed": false
   },
   "outputs": [
    {
     "name": "stdout",
     "output_type": "stream",
     "text": [
      "<Chain id=A>\n",
      "<Chain id=B>\n"
     ]
    }
   ],
   "source": [
    "for modelo in estructura:\n",
    "    for cadena in modelo:\n",
    "        print(cadena)"
   ]
  },
  {
   "cell_type": "code",
   "execution_count": 12,
   "metadata": {
    "collapsed": false
   },
   "outputs": [
    {
     "data": {
      "text/plain": [
       "Bio.PDB.Model.Model"
      ]
     },
     "execution_count": 12,
     "metadata": {},
     "output_type": "execute_result"
    }
   ],
   "source": [
    "modelo = estructura[0]\n",
    "type(modelo)"
   ]
  },
  {
   "cell_type": "code",
   "execution_count": 13,
   "metadata": {
    "collapsed": false
   },
   "outputs": [
    {
     "data": {
      "text/plain": [
       "Bio.PDB.Chain.Chain"
      ]
     },
     "execution_count": 13,
     "metadata": {},
     "output_type": "execute_result"
    }
   ],
   "source": [
    "cadena_a = modelo['A']\n",
    "type(cadena_a)"
   ]
  },
  {
   "cell_type": "code",
   "execution_count": 14,
   "metadata": {
    "collapsed": false
   },
   "outputs": [
    {
     "name": "stdout",
     "output_type": "stream",
     "text": [
      "(<Residue VAL het=  resseq=1 icode= >, (' ', 1, ' '), ' ')\n",
      "(<Residue LEU het=  resseq=2 icode= >, (' ', 2, ' '), ' ')\n",
      "(<Residue SER het=  resseq=3 icode= >, (' ', 3, ' '), ' ')\n",
      "(<Residue PRO het=  resseq=4 icode= >, (' ', 4, ' '), ' ')\n",
      "(<Residue ALA het=  resseq=5 icode= >, (' ', 5, ' '), ' ')\n",
      "(<Residue ASP het=  resseq=6 icode= >, (' ', 6, ' '), ' ')\n",
      "(<Residue LYS het=  resseq=7 icode= >, (' ', 7, ' '), ' ')\n",
      "(<Residue THR het=  resseq=8 icode= >, (' ', 8, ' '), ' ')\n",
      "(<Residue ASN het=  resseq=9 icode= >, (' ', 9, ' '), ' ')\n",
      "(<Residue VAL het=  resseq=10 icode= >, (' ', 10, ' '), ' ')\n",
      "(<Residue LYS het=  resseq=11 icode= >, (' ', 11, ' '), ' ')\n",
      "(<Residue ALA het=  resseq=12 icode= >, (' ', 12, ' '), ' ')\n",
      "(<Residue ALA het=  resseq=13 icode= >, (' ', 13, ' '), ' ')\n",
      "(<Residue TRP het=  resseq=14 icode= >, (' ', 14, ' '), ' ')\n",
      "(<Residue GLY het=  resseq=15 icode= >, (' ', 15, ' '), ' ')\n",
      "(<Residue LYS het=  resseq=16 icode= >, (' ', 16, ' '), ' ')\n",
      "(<Residue VAL het=  resseq=17 icode= >, (' ', 17, ' '), ' ')\n",
      "(<Residue GLY het=  resseq=18 icode= >, (' ', 18, ' '), ' ')\n",
      "(<Residue ALA het=  resseq=19 icode= >, (' ', 19, ' '), ' ')\n",
      "(<Residue HIS het=  resseq=20 icode= >, (' ', 20, ' '), ' ')\n",
      "(<Residue ALA het=  resseq=21 icode= >, (' ', 21, ' '), ' ')\n",
      "(<Residue GLY het=  resseq=22 icode= >, (' ', 22, ' '), ' ')\n",
      "(<Residue GLU het=  resseq=23 icode= >, (' ', 23, ' '), ' ')\n",
      "(<Residue TYR het=  resseq=24 icode= >, (' ', 24, ' '), ' ')\n",
      "(<Residue GLY het=  resseq=25 icode= >, (' ', 25, ' '), ' ')\n",
      "(<Residue ALA het=  resseq=26 icode= >, (' ', 26, ' '), ' ')\n",
      "(<Residue GLU het=  resseq=27 icode= >, (' ', 27, ' '), ' ')\n",
      "(<Residue ALA het=  resseq=28 icode= >, (' ', 28, ' '), ' ')\n",
      "(<Residue LEU het=  resseq=29 icode= >, (' ', 29, ' '), ' ')\n",
      "(<Residue GLU het=  resseq=30 icode= >, (' ', 30, ' '), ' ')\n",
      "(<Residue ARG het=  resseq=31 icode= >, (' ', 31, ' '), ' ')\n",
      "(<Residue MET het=  resseq=32 icode= >, (' ', 32, ' '), ' ')\n",
      "(<Residue PHE het=  resseq=33 icode= >, (' ', 33, ' '), ' ')\n",
      "(<Residue LEU het=  resseq=34 icode= >, (' ', 34, ' '), ' ')\n",
      "(<Residue SER het=  resseq=35 icode= >, (' ', 35, ' '), ' ')\n",
      "(<Residue PHE het=  resseq=36 icode= >, (' ', 36, ' '), ' ')\n",
      "(<Residue PRO het=  resseq=37 icode= >, (' ', 37, ' '), ' ')\n",
      "(<Residue THR het=  resseq=38 icode= >, (' ', 38, ' '), ' ')\n",
      "(<Residue THR het=  resseq=39 icode= >, (' ', 39, ' '), ' ')\n",
      "(<Residue LYS het=  resseq=40 icode= >, (' ', 40, ' '), ' ')\n",
      "(<Residue THR het=  resseq=41 icode= >, (' ', 41, ' '), ' ')\n",
      "(<Residue TYR het=  resseq=42 icode= >, (' ', 42, ' '), ' ')\n",
      "(<Residue PHE het=  resseq=43 icode= >, (' ', 43, ' '), ' ')\n",
      "(<Residue PRO het=  resseq=44 icode= >, (' ', 44, ' '), ' ')\n",
      "(<Residue HIS het=  resseq=45 icode= >, (' ', 45, ' '), ' ')\n",
      "(<Residue PHE het=  resseq=46 icode= >, (' ', 46, ' '), ' ')\n",
      "(<Residue ASP het=  resseq=47 icode= >, (' ', 47, ' '), ' ')\n",
      "(<Residue LEU het=  resseq=48 icode= >, (' ', 48, ' '), ' ')\n",
      "(<Residue SER het=  resseq=49 icode= >, (' ', 49, ' '), ' ')\n",
      "(<Residue HIS het=  resseq=50 icode= >, (' ', 50, ' '), ' ')\n",
      "(<Residue GLY het=  resseq=51 icode= >, (' ', 51, ' '), ' ')\n",
      "(<Residue SER het=  resseq=52 icode= >, (' ', 52, ' '), ' ')\n",
      "(<Residue ALA het=  resseq=53 icode= >, (' ', 53, ' '), ' ')\n",
      "(<Residue GLN het=  resseq=54 icode= >, (' ', 54, ' '), ' ')\n",
      "(<Residue VAL het=  resseq=55 icode= >, (' ', 55, ' '), ' ')\n",
      "(<Residue LYS het=  resseq=56 icode= >, (' ', 56, ' '), ' ')\n",
      "(<Residue GLY het=  resseq=57 icode= >, (' ', 57, ' '), ' ')\n",
      "(<Residue HIS het=  resseq=58 icode= >, (' ', 58, ' '), ' ')\n",
      "(<Residue GLY het=  resseq=59 icode= >, (' ', 59, ' '), ' ')\n",
      "(<Residue LYS het=  resseq=60 icode= >, (' ', 60, ' '), ' ')\n",
      "(<Residue LYS het=  resseq=61 icode= >, (' ', 61, ' '), ' ')\n",
      "(<Residue VAL het=  resseq=62 icode= >, (' ', 62, ' '), ' ')\n",
      "(<Residue ALA het=  resseq=63 icode= >, (' ', 63, ' '), ' ')\n",
      "(<Residue ASP het=  resseq=64 icode= >, (' ', 64, ' '), ' ')\n",
      "(<Residue ALA het=  resseq=65 icode= >, (' ', 65, ' '), ' ')\n",
      "(<Residue LEU het=  resseq=66 icode= >, (' ', 66, ' '), ' ')\n",
      "(<Residue THR het=  resseq=67 icode= >, (' ', 67, ' '), ' ')\n",
      "(<Residue ASN het=  resseq=68 icode= >, (' ', 68, ' '), ' ')\n",
      "(<Residue ALA het=  resseq=69 icode= >, (' ', 69, ' '), ' ')\n",
      "(<Residue VAL het=  resseq=70 icode= >, (' ', 70, ' '), ' ')\n",
      "(<Residue ALA het=  resseq=71 icode= >, (' ', 71, ' '), ' ')\n",
      "(<Residue HIS het=  resseq=72 icode= >, (' ', 72, ' '), ' ')\n",
      "(<Residue VAL het=  resseq=73 icode= >, (' ', 73, ' '), ' ')\n",
      "(<Residue ASP het=  resseq=74 icode= >, (' ', 74, ' '), ' ')\n",
      "(<Residue ASP het=  resseq=75 icode= >, (' ', 75, ' '), ' ')\n",
      "(<Residue MET het=  resseq=76 icode= >, (' ', 76, ' '), ' ')\n",
      "(<Residue PRO het=  resseq=77 icode= >, (' ', 77, ' '), ' ')\n",
      "(<Residue ASN het=  resseq=78 icode= >, (' ', 78, ' '), ' ')\n",
      "(<Residue ALA het=  resseq=79 icode= >, (' ', 79, ' '), ' ')\n",
      "(<Residue LEU het=  resseq=80 icode= >, (' ', 80, ' '), ' ')\n",
      "(<Residue SER het=  resseq=81 icode= >, (' ', 81, ' '), ' ')\n",
      "(<Residue ALA het=  resseq=82 icode= >, (' ', 82, ' '), ' ')\n",
      "(<Residue LEU het=  resseq=83 icode= >, (' ', 83, ' '), ' ')\n",
      "(<Residue SER het=  resseq=84 icode= >, (' ', 84, ' '), ' ')\n",
      "(<Residue ASP het=  resseq=85 icode= >, (' ', 85, ' '), ' ')\n",
      "(<Residue LEU het=  resseq=86 icode= >, (' ', 86, ' '), ' ')\n",
      "(<Residue HIS het=  resseq=87 icode= >, (' ', 87, ' '), ' ')\n",
      "(<Residue ALA het=  resseq=88 icode= >, (' ', 88, ' '), ' ')\n",
      "(<Residue HIS het=  resseq=89 icode= >, (' ', 89, ' '), ' ')\n",
      "(<Residue LYS het=  resseq=90 icode= >, (' ', 90, ' '), ' ')\n",
      "(<Residue LEU het=  resseq=91 icode= >, (' ', 91, ' '), ' ')\n",
      "(<Residue ARG het=  resseq=92 icode= >, (' ', 92, ' '), ' ')\n",
      "(<Residue VAL het=  resseq=93 icode= >, (' ', 93, ' '), ' ')\n",
      "(<Residue ASP het=  resseq=94 icode= >, (' ', 94, ' '), ' ')\n",
      "(<Residue PRO het=  resseq=95 icode= >, (' ', 95, ' '), ' ')\n",
      "(<Residue VAL het=  resseq=96 icode= >, (' ', 96, ' '), ' ')\n",
      "(<Residue ASN het=  resseq=97 icode= >, (' ', 97, ' '), ' ')\n",
      "(<Residue PHE het=  resseq=98 icode= >, (' ', 98, ' '), ' ')\n",
      "(<Residue LYS het=  resseq=99 icode= >, (' ', 99, ' '), ' ')\n",
      "(<Residue LEU het=  resseq=100 icode= >, (' ', 100, ' '), ' ')\n",
      "(<Residue LEU het=  resseq=101 icode= >, (' ', 101, ' '), ' ')\n",
      "(<Residue SER het=  resseq=102 icode= >, (' ', 102, ' '), ' ')\n",
      "(<Residue HIS het=  resseq=103 icode= >, (' ', 103, ' '), ' ')\n",
      "(<Residue CYS het=  resseq=104 icode= >, (' ', 104, ' '), ' ')\n",
      "(<Residue LEU het=  resseq=105 icode= >, (' ', 105, ' '), ' ')\n",
      "(<Residue LEU het=  resseq=106 icode= >, (' ', 106, ' '), ' ')\n",
      "(<Residue VAL het=  resseq=107 icode= >, (' ', 107, ' '), ' ')\n",
      "(<Residue THR het=  resseq=108 icode= >, (' ', 108, ' '), ' ')\n",
      "(<Residue LEU het=  resseq=109 icode= >, (' ', 109, ' '), ' ')\n",
      "(<Residue ALA het=  resseq=110 icode= >, (' ', 110, ' '), ' ')\n",
      "(<Residue ALA het=  resseq=111 icode= >, (' ', 111, ' '), ' ')\n",
      "(<Residue HIS het=  resseq=112 icode= >, (' ', 112, ' '), ' ')\n",
      "(<Residue LEU het=  resseq=113 icode= >, (' ', 113, ' '), ' ')\n",
      "(<Residue PRO het=  resseq=114 icode= >, (' ', 114, ' '), ' ')\n",
      "(<Residue ALA het=  resseq=115 icode= >, (' ', 115, ' '), ' ')\n",
      "(<Residue GLU het=  resseq=116 icode= >, (' ', 116, ' '), ' ')\n",
      "(<Residue PHE het=  resseq=117 icode= >, (' ', 117, ' '), ' ')\n",
      "(<Residue THR het=  resseq=118 icode= >, (' ', 118, ' '), ' ')\n",
      "(<Residue PRO het=  resseq=119 icode= >, (' ', 119, ' '), ' ')\n",
      "(<Residue ALA het=  resseq=120 icode= >, (' ', 120, ' '), ' ')\n",
      "(<Residue VAL het=  resseq=121 icode= >, (' ', 121, ' '), ' ')\n",
      "(<Residue HIS het=  resseq=122 icode= >, (' ', 122, ' '), ' ')\n",
      "(<Residue ALA het=  resseq=123 icode= >, (' ', 123, ' '), ' ')\n",
      "(<Residue SER het=  resseq=124 icode= >, (' ', 124, ' '), ' ')\n",
      "(<Residue LEU het=  resseq=125 icode= >, (' ', 125, ' '), ' ')\n",
      "(<Residue ASP het=  resseq=126 icode= >, (' ', 126, ' '), ' ')\n",
      "(<Residue LYS het=  resseq=127 icode= >, (' ', 127, ' '), ' ')\n",
      "(<Residue PHE het=  resseq=128 icode= >, (' ', 128, ' '), ' ')\n",
      "(<Residue LEU het=  resseq=129 icode= >, (' ', 129, ' '), ' ')\n",
      "(<Residue ALA het=  resseq=130 icode= >, (' ', 130, ' '), ' ')\n",
      "(<Residue SER het=  resseq=131 icode= >, (' ', 131, ' '), ' ')\n",
      "(<Residue VAL het=  resseq=132 icode= >, (' ', 132, ' '), ' ')\n",
      "(<Residue SER het=  resseq=133 icode= >, (' ', 133, ' '), ' ')\n",
      "(<Residue THR het=  resseq=134 icode= >, (' ', 134, ' '), ' ')\n",
      "(<Residue VAL het=  resseq=135 icode= >, (' ', 135, ' '), ' ')\n",
      "(<Residue LEU het=  resseq=136 icode= >, (' ', 136, ' '), ' ')\n",
      "(<Residue THR het=  resseq=137 icode= >, (' ', 137, ' '), ' ')\n",
      "(<Residue SER het=  resseq=138 icode= >, (' ', 138, ' '), ' ')\n",
      "(<Residue LYS het=  resseq=139 icode= >, (' ', 139, ' '), ' ')\n",
      "(<Residue TYR het=  resseq=140 icode= >, (' ', 140, ' '), ' ')\n",
      "(<Residue ARG het=  resseq=141 icode= >, (' ', 141, ' '), ' ')\n",
      "(<Residue CMO het=H_CMO resseq=201 icode= >, ('H_CMO', 201, ' '), 'H_CMO')\n",
      "(<Residue HEM het=H_HEM resseq=202 icode= >, ('H_HEM', 202, ' '), 'H_HEM')\n",
      "(<Residue 2JX het=H_2JX resseq=203 icode= >, ('H_2JX', 203, ' '), 'H_2JX')\n",
      "(<Residue 2JX het=H_2JX resseq=204 icode= >, ('H_2JX', 204, ' '), 'H_2JX')\n",
      "(<Residue MBN het=H_MBN resseq=205 icode= >, ('H_MBN', 205, ' '), 'H_MBN')\n",
      "(<Residue MBN het=H_MBN resseq=206 icode= >, ('H_MBN', 206, ' '), 'H_MBN')\n",
      "(<Residue HOH het=W resseq=301 icode= >, ('W', 301, ' '), 'W')\n",
      "(<Residue HOH het=W resseq=302 icode= >, ('W', 302, ' '), 'W')\n",
      "(<Residue HOH het=W resseq=303 icode= >, ('W', 303, ' '), 'W')\n",
      "(<Residue HOH het=W resseq=304 icode= >, ('W', 304, ' '), 'W')\n",
      "(<Residue HOH het=W resseq=305 icode= >, ('W', 305, ' '), 'W')\n",
      "(<Residue HOH het=W resseq=306 icode= >, ('W', 306, ' '), 'W')\n",
      "(<Residue HOH het=W resseq=307 icode= >, ('W', 307, ' '), 'W')\n",
      "(<Residue HOH het=W resseq=308 icode= >, ('W', 308, ' '), 'W')\n",
      "(<Residue HOH het=W resseq=309 icode= >, ('W', 309, ' '), 'W')\n",
      "(<Residue HOH het=W resseq=310 icode= >, ('W', 310, ' '), 'W')\n",
      "(<Residue HOH het=W resseq=311 icode= >, ('W', 311, ' '), 'W')\n",
      "(<Residue HOH het=W resseq=312 icode= >, ('W', 312, ' '), 'W')\n",
      "(<Residue HOH het=W resseq=313 icode= >, ('W', 313, ' '), 'W')\n",
      "(<Residue HOH het=W resseq=314 icode= >, ('W', 314, ' '), 'W')\n",
      "(<Residue HOH het=W resseq=315 icode= >, ('W', 315, ' '), 'W')\n",
      "(<Residue HOH het=W resseq=316 icode= >, ('W', 316, ' '), 'W')\n",
      "(<Residue HOH het=W resseq=317 icode= >, ('W', 317, ' '), 'W')\n",
      "(<Residue HOH het=W resseq=318 icode= >, ('W', 318, ' '), 'W')\n",
      "(<Residue HOH het=W resseq=319 icode= >, ('W', 319, ' '), 'W')\n",
      "(<Residue HOH het=W resseq=320 icode= >, ('W', 320, ' '), 'W')\n",
      "(<Residue HOH het=W resseq=321 icode= >, ('W', 321, ' '), 'W')\n",
      "(<Residue HOH het=W resseq=322 icode= >, ('W', 322, ' '), 'W')\n",
      "(<Residue HOH het=W resseq=323 icode= >, ('W', 323, ' '), 'W')\n",
      "(<Residue HOH het=W resseq=324 icode= >, ('W', 324, ' '), 'W')\n",
      "(<Residue HOH het=W resseq=325 icode= >, ('W', 325, ' '), 'W')\n",
      "(<Residue HOH het=W resseq=326 icode= >, ('W', 326, ' '), 'W')\n",
      "(<Residue HOH het=W resseq=327 icode= >, ('W', 327, ' '), 'W')\n",
      "(<Residue HOH het=W resseq=328 icode= >, ('W', 328, ' '), 'W')\n",
      "(<Residue HOH het=W resseq=329 icode= >, ('W', 329, ' '), 'W')\n",
      "(<Residue HOH het=W resseq=330 icode= >, ('W', 330, ' '), 'W')\n",
      "(<Residue HOH het=W resseq=331 icode= >, ('W', 331, ' '), 'W')\n",
      "(<Residue HOH het=W resseq=332 icode= >, ('W', 332, ' '), 'W')\n",
      "(<Residue HOH het=W resseq=333 icode= >, ('W', 333, ' '), 'W')\n",
      "(<Residue HOH het=W resseq=334 icode= >, ('W', 334, ' '), 'W')\n",
      "(<Residue HOH het=W resseq=335 icode= >, ('W', 335, ' '), 'W')\n",
      "(<Residue HOH het=W resseq=336 icode= >, ('W', 336, ' '), 'W')\n",
      "(<Residue HOH het=W resseq=337 icode= >, ('W', 337, ' '), 'W')\n",
      "(<Residue HOH het=W resseq=338 icode= >, ('W', 338, ' '), 'W')\n",
      "(<Residue HOH het=W resseq=339 icode= >, ('W', 339, ' '), 'W')\n",
      "(<Residue HOH het=W resseq=340 icode= >, ('W', 340, ' '), 'W')\n",
      "(<Residue HOH het=W resseq=341 icode= >, ('W', 341, ' '), 'W')\n",
      "(<Residue HOH het=W resseq=342 icode= >, ('W', 342, ' '), 'W')\n",
      "(<Residue HOH het=W resseq=343 icode= >, ('W', 343, ' '), 'W')\n",
      "(<Residue HOH het=W resseq=344 icode= >, ('W', 344, ' '), 'W')\n",
      "(<Residue HOH het=W resseq=345 icode= >, ('W', 345, ' '), 'W')\n",
      "(<Residue HOH het=W resseq=346 icode= >, ('W', 346, ' '), 'W')\n",
      "(<Residue HOH het=W resseq=347 icode= >, ('W', 347, ' '), 'W')\n",
      "(<Residue HOH het=W resseq=348 icode= >, ('W', 348, ' '), 'W')\n",
      "(<Residue HOH het=W resseq=349 icode= >, ('W', 349, ' '), 'W')\n",
      "(<Residue HOH het=W resseq=350 icode= >, ('W', 350, ' '), 'W')\n",
      "(<Residue HOH het=W resseq=351 icode= >, ('W', 351, ' '), 'W')\n",
      "(<Residue HOH het=W resseq=352 icode= >, ('W', 352, ' '), 'W')\n",
      "(<Residue HOH het=W resseq=353 icode= >, ('W', 353, ' '), 'W')\n",
      "(<Residue HOH het=W resseq=354 icode= >, ('W', 354, ' '), 'W')\n",
      "(<Residue HOH het=W resseq=355 icode= >, ('W', 355, ' '), 'W')\n",
      "(<Residue HOH het=W resseq=356 icode= >, ('W', 356, ' '), 'W')\n",
      "(<Residue HOH het=W resseq=357 icode= >, ('W', 357, ' '), 'W')\n",
      "(<Residue HOH het=W resseq=358 icode= >, ('W', 358, ' '), 'W')\n",
      "(<Residue HOH het=W resseq=359 icode= >, ('W', 359, ' '), 'W')\n",
      "(<Residue HOH het=W resseq=360 icode= >, ('W', 360, ' '), 'W')\n",
      "(<Residue HOH het=W resseq=361 icode= >, ('W', 361, ' '), 'W')\n",
      "(<Residue HOH het=W resseq=362 icode= >, ('W', 362, ' '), 'W')\n",
      "(<Residue HOH het=W resseq=363 icode= >, ('W', 363, ' '), 'W')\n",
      "(<Residue HOH het=W resseq=364 icode= >, ('W', 364, ' '), 'W')\n",
      "(<Residue HOH het=W resseq=365 icode= >, ('W', 365, ' '), 'W')\n",
      "(<Residue HOH het=W resseq=366 icode= >, ('W', 366, ' '), 'W')\n",
      "(<Residue HOH het=W resseq=367 icode= >, ('W', 367, ' '), 'W')\n",
      "(<Residue HOH het=W resseq=368 icode= >, ('W', 368, ' '), 'W')\n",
      "(<Residue HOH het=W resseq=369 icode= >, ('W', 369, ' '), 'W')\n",
      "(<Residue HOH het=W resseq=370 icode= >, ('W', 370, ' '), 'W')\n",
      "(<Residue HOH het=W resseq=371 icode= >, ('W', 371, ' '), 'W')\n",
      "(<Residue HOH het=W resseq=372 icode= >, ('W', 372, ' '), 'W')\n",
      "(<Residue HOH het=W resseq=373 icode= >, ('W', 373, ' '), 'W')\n",
      "(<Residue HOH het=W resseq=374 icode= >, ('W', 374, ' '), 'W')\n",
      "(<Residue HOH het=W resseq=375 icode= >, ('W', 375, ' '), 'W')\n",
      "(<Residue HOH het=W resseq=376 icode= >, ('W', 376, ' '), 'W')\n",
      "(<Residue HOH het=W resseq=377 icode= >, ('W', 377, ' '), 'W')\n",
      "(<Residue HOH het=W resseq=378 icode= >, ('W', 378, ' '), 'W')\n",
      "(<Residue HOH het=W resseq=379 icode= >, ('W', 379, ' '), 'W')\n",
      "(<Residue HOH het=W resseq=380 icode= >, ('W', 380, ' '), 'W')\n",
      "(<Residue HOH het=W resseq=381 icode= >, ('W', 381, ' '), 'W')\n",
      "(<Residue HOH het=W resseq=382 icode= >, ('W', 382, ' '), 'W')\n",
      "(<Residue HOH het=W resseq=383 icode= >, ('W', 383, ' '), 'W')\n",
      "(<Residue HOH het=W resseq=384 icode= >, ('W', 384, ' '), 'W')\n",
      "(<Residue HOH het=W resseq=385 icode= >, ('W', 385, ' '), 'W')\n",
      "(<Residue HOH het=W resseq=386 icode= >, ('W', 386, ' '), 'W')\n",
      "(<Residue HOH het=W resseq=387 icode= >, ('W', 387, ' '), 'W')\n",
      "(<Residue HOH het=W resseq=388 icode= >, ('W', 388, ' '), 'W')\n",
      "(<Residue HOH het=W resseq=389 icode= >, ('W', 389, ' '), 'W')\n",
      "(<Residue HOH het=W resseq=390 icode= >, ('W', 390, ' '), 'W')\n",
      "(<Residue HOH het=W resseq=391 icode= >, ('W', 391, ' '), 'W')\n",
      "(<Residue HOH het=W resseq=392 icode= >, ('W', 392, ' '), 'W')\n",
      "(<Residue HOH het=W resseq=393 icode= >, ('W', 393, ' '), 'W')\n",
      "(<Residue HOH het=W resseq=394 icode= >, ('W', 394, ' '), 'W')\n",
      "(<Residue HOH het=W resseq=395 icode= >, ('W', 395, ' '), 'W')\n",
      "(<Residue HOH het=W resseq=396 icode= >, ('W', 396, ' '), 'W')\n",
      "(<Residue HOH het=W resseq=397 icode= >, ('W', 397, ' '), 'W')\n",
      "(<Residue HOH het=W resseq=398 icode= >, ('W', 398, ' '), 'W')\n",
      "(<Residue HOH het=W resseq=399 icode= >, ('W', 399, ' '), 'W')\n",
      "(<Residue HOH het=W resseq=400 icode= >, ('W', 400, ' '), 'W')\n",
      "(<Residue HOH het=W resseq=401 icode= >, ('W', 401, ' '), 'W')\n",
      "(<Residue HOH het=W resseq=402 icode= >, ('W', 402, ' '), 'W')\n",
      "(<Residue HOH het=W resseq=403 icode= >, ('W', 403, ' '), 'W')\n",
      "(<Residue HOH het=W resseq=404 icode= >, ('W', 404, ' '), 'W')\n",
      "(<Residue HOH het=W resseq=405 icode= >, ('W', 405, ' '), 'W')\n",
      "(<Residue HOH het=W resseq=406 icode= >, ('W', 406, ' '), 'W')\n",
      "(<Residue HOH het=W resseq=407 icode= >, ('W', 407, ' '), 'W')\n",
      "(<Residue HOH het=W resseq=408 icode= >, ('W', 408, ' '), 'W')\n",
      "(<Residue HOH het=W resseq=409 icode= >, ('W', 409, ' '), 'W')\n",
      "(<Residue HOH het=W resseq=410 icode= >, ('W', 410, ' '), 'W')\n",
      "(<Residue HOH het=W resseq=411 icode= >, ('W', 411, ' '), 'W')\n",
      "(<Residue HOH het=W resseq=412 icode= >, ('W', 412, ' '), 'W')\n",
      "(<Residue HOH het=W resseq=413 icode= >, ('W', 413, ' '), 'W')\n",
      "(<Residue HOH het=W resseq=414 icode= >, ('W', 414, ' '), 'W')\n",
      "(<Residue HOH het=W resseq=415 icode= >, ('W', 415, ' '), 'W')\n",
      "(<Residue HOH het=W resseq=416 icode= >, ('W', 416, ' '), 'W')\n",
      "(<Residue HOH het=W resseq=417 icode= >, ('W', 417, ' '), 'W')\n",
      "(<Residue HOH het=W resseq=418 icode= >, ('W', 418, ' '), 'W')\n",
      "(<Residue HOH het=W resseq=419 icode= >, ('W', 419, ' '), 'W')\n",
      "(<Residue HOH het=W resseq=420 icode= >, ('W', 420, ' '), 'W')\n",
      "(<Residue HOH het=W resseq=421 icode= >, ('W', 421, ' '), 'W')\n",
      "(<Residue HOH het=W resseq=422 icode= >, ('W', 422, ' '), 'W')\n",
      "(<Residue HOH het=W resseq=423 icode= >, ('W', 423, ' '), 'W')\n",
      "(<Residue HOH het=W resseq=424 icode= >, ('W', 424, ' '), 'W')\n",
      "(<Residue HOH het=W resseq=425 icode= >, ('W', 425, ' '), 'W')\n",
      "(<Residue HOH het=W resseq=426 icode= >, ('W', 426, ' '), 'W')\n",
      "(<Residue HOH het=W resseq=427 icode= >, ('W', 427, ' '), 'W')\n",
      "(<Residue HOH het=W resseq=428 icode= >, ('W', 428, ' '), 'W')\n",
      "(<Residue HOH het=W resseq=429 icode= >, ('W', 429, ' '), 'W')\n",
      "(<Residue HOH het=W resseq=430 icode= >, ('W', 430, ' '), 'W')\n",
      "(<Residue HOH het=W resseq=431 icode= >, ('W', 431, ' '), 'W')\n"
     ]
    }
   ],
   "source": [
    "for residuo in cadena_a:\n",
    "    print( residuo, residuo.get_id(), residuo.get_id()[0] ) # residuo, id, hetero flag "
   ]
  },
  {
   "cell_type": "code",
   "execution_count": 15,
   "metadata": {
    "collapsed": false
   },
   "outputs": [],
   "source": [
    "residuos = [ residuo for residuo in cadena_a if residuo.get_id()[0]==' ' ] # No son hetero-residuos (agua, ligandos, etc)"
   ]
  },
  {
   "cell_type": "code",
   "execution_count": 16,
   "metadata": {
    "collapsed": false
   },
   "outputs": [
    {
     "data": {
      "text/plain": [
       "Bio.PDB.Residue.Residue"
      ]
     },
     "execution_count": 16,
     "metadata": {},
     "output_type": "execute_result"
    }
   ],
   "source": [
    "type(residuos[0])"
   ]
  },
  {
   "cell_type": "code",
   "execution_count": 17,
   "metadata": {
    "collapsed": false
   },
   "outputs": [],
   "source": [
    "res_1 = residuos[0]\n",
    "res_2 = residuos[1]"
   ]
  },
  {
   "cell_type": "code",
   "execution_count": 18,
   "metadata": {
    "collapsed": false
   },
   "outputs": [
    {
     "data": {
      "text/plain": [
       "<Residue VAL het=  resseq=1 icode= >"
      ]
     },
     "execution_count": 18,
     "metadata": {},
     "output_type": "execute_result"
    }
   ],
   "source": [
    "res_1"
   ]
  },
  {
   "cell_type": "code",
   "execution_count": 19,
   "metadata": {
    "collapsed": false
   },
   "outputs": [
    {
     "name": "stdout",
     "output_type": "stream",
     "text": [
      "<Atom N>\n",
      "<Atom CA>\n",
      "<Atom C>\n",
      "<Atom O>\n",
      "<Atom CB>\n",
      "<Atom CG1>\n",
      "<Atom CG2>\n"
     ]
    }
   ],
   "source": [
    "for atomo in res_1:\n",
    "    print( atomo )"
   ]
  },
  {
   "cell_type": "code",
   "execution_count": 20,
   "metadata": {
    "collapsed": false
   },
   "outputs": [
    {
     "data": {
      "text/plain": [
       "<Atom CA>"
      ]
     },
     "execution_count": 20,
     "metadata": {},
     "output_type": "execute_result"
    }
   ],
   "source": [
    "res_1['CA']"
   ]
  },
  {
   "cell_type": "code",
   "execution_count": 21,
   "metadata": {
    "collapsed": false
   },
   "outputs": [
    {
     "data": {
      "text/plain": [
       "array([ 47.17699814,  19.27199936,  50.19200134], dtype=float32)"
      ]
     },
     "execution_count": 21,
     "metadata": {},
     "output_type": "execute_result"
    }
   ],
   "source": [
    "res_1['CA'].coord"
   ]
  },
  {
   "cell_type": "code",
   "execution_count": 22,
   "metadata": {
    "collapsed": false
   },
   "outputs": [
    {
     "data": {
      "text/plain": [
       "array([ 48.19400024,  19.11700058,  53.86000061], dtype=float32)"
      ]
     },
     "execution_count": 22,
     "metadata": {},
     "output_type": "execute_result"
    }
   ],
   "source": [
    "res_2['CA'].coord"
   ]
  },
  {
   "cell_type": "code",
   "execution_count": 23,
   "metadata": {
    "collapsed": false
   },
   "outputs": [
    {
     "data": {
      "text/plain": [
       "array([-1.01700211,  0.15499878, -3.66799927], dtype=float32)"
      ]
     },
     "execution_count": 23,
     "metadata": {},
     "output_type": "execute_result"
    }
   ],
   "source": [
    "res_1['CA'].coord - res_2['CA'].coord"
   ]
  },
  {
   "cell_type": "code",
   "execution_count": 24,
   "metadata": {
    "collapsed": false
   },
   "outputs": [],
   "source": [
    "import numpy as np"
   ]
  },
  {
   "cell_type": "code",
   "execution_count": 25,
   "metadata": {
    "collapsed": false
   },
   "outputs": [
    {
     "data": {
      "text/plain": [
       "array([  1.03429329,   0.02402462,  13.45421886], dtype=float32)"
      ]
     },
     "execution_count": 25,
     "metadata": {},
     "output_type": "execute_result"
    }
   ],
   "source": [
    "( res_1['CA'].coord - res_2['CA'].coord )**2"
   ]
  },
  {
   "cell_type": "code",
   "execution_count": 26,
   "metadata": {
    "collapsed": false
   },
   "outputs": [
    {
     "data": {
      "text/plain": [
       "3.8095324"
      ]
     },
     "execution_count": 26,
     "metadata": {},
     "output_type": "execute_result"
    }
   ],
   "source": [
    "np.sqrt( np.sum( ( res_1['CA'].coord - res_2['CA'].coord )**2 ) )"
   ]
  },
  {
   "cell_type": "code",
   "execution_count": 27,
   "metadata": {
    "collapsed": false
   },
   "outputs": [
    {
     "data": {
      "text/plain": [
       "3.8095324"
      ]
     },
     "execution_count": 27,
     "metadata": {},
     "output_type": "execute_result"
    }
   ],
   "source": [
    "res_1['CA'] - res_2['CA']"
   ]
  },
  {
   "cell_type": "markdown",
   "metadata": {},
   "source": [
    "# Ejercicio"
   ]
  },
  {
   "cell_type": "markdown",
   "metadata": {},
   "source": [
    "Completar la parte diagonal superior de una matriz (sin la diagonal) con el mapa de contactos (considerando contactos `CA` a *8A*). Para eso reemplazar `____` por el código correspondiente.\n",
    "\n",
    "```python\n",
    "\n",
    "import numpy as np\n",
    "\n",
    "N = ____(residuos) # ¿Cuántos residuos tengo?\n",
    "\n",
    "cmap = np.zeros((N, N)) # Creo una matriz de 0.0 de NxN con Numpy\n",
    "\n",
    "for i in range(____,____):\n",
    "    for j in range(____,____):\n",
    "        cmap[i,j] = ____\n",
    "\n",
    "```"
   ]
  },
  {
   "cell_type": "code",
   "execution_count": 42,
   "metadata": {
    "collapsed": true
   },
   "outputs": [],
   "source": [
    "# COMPLETAR"
   ]
  },
  {
   "cell_type": "code",
   "execution_count": 35,
   "metadata": {
    "collapsed": false
   },
   "outputs": [
    {
     "data": {
      "text/plain": [
       "array([[ 0.,  1.,  1., ...,  0.,  0.,  0.],\n",
       "       [ 0.,  0.,  1., ...,  0.,  0.,  0.],\n",
       "       [ 0.,  0.,  0., ...,  0.,  0.,  0.],\n",
       "       ..., \n",
       "       [ 0.,  0.,  0., ...,  0.,  1.,  1.],\n",
       "       [ 0.,  0.,  0., ...,  0.,  0.,  1.],\n",
       "       [ 0.,  0.,  0., ...,  0.,  0.,  0.]])"
      ]
     },
     "execution_count": 35,
     "metadata": {},
     "output_type": "execute_result"
    }
   ],
   "source": [
    "cmap"
   ]
  },
  {
   "cell_type": "code",
   "execution_count": 36,
   "metadata": {
    "collapsed": false
   },
   "outputs": [],
   "source": [
    "import matplotlib.pyplot as plt"
   ]
  },
  {
   "cell_type": "code",
   "execution_count": 38,
   "metadata": {
    "collapsed": true
   },
   "outputs": [],
   "source": [
    "%matplotlib inline"
   ]
  },
  {
   "cell_type": "code",
   "execution_count": 39,
   "metadata": {
    "collapsed": false
   },
   "outputs": [
    {
     "data": {
      "text/plain": [
       "<matplotlib.image.AxesImage at 0x7f4574477dd0>"
      ]
     },
     "execution_count": 39,
     "metadata": {},
     "output_type": "execute_result"
    },
    {
     "data": {
      "image/png": "[encoded data removed]",
      "text/plain": [
       "<matplotlib.figure.Figure at 0x7f45741415d0>"
      ]
     },
     "metadata": {},
     "output_type": "display_data"
    }
   ],
   "source": [
    "plt.spy(cmap)"
   ]
  },
  {
   "cell_type": "code",
   "execution_count": 41,
   "metadata": {
    "collapsed": false
   },
   "outputs": [
    {
     "data": {
      "text/plain": [
       "<matplotlib.image.AxesImage at 0x7f45742a8490>"
      ]
     },
     "execution_count": 41,
     "metadata": {},
     "output_type": "execute_result"
    },
    {
     "data": {
      "image/png": "[encoded data removed]",
      "text/plain": [
       "<matplotlib.figure.Figure at 0x7f4574331090>"
      ]
     },
     "metadata": {},
     "output_type": "display_data"
    }
   ],
   "source": [
    "plt.imshow(cmap)"
   ]
  }
 ],
 "metadata": {
  "kernelspec": {
   "display_name": "Python 2",
   "language": "python",
   "name": "python2"
  },
  "language_info": {
   "codemirror_mode": {
    "name": "ipython",
    "version": 2
   },
   "file_extension": ".py",
   "mimetype": "text/x-python",
   "name": "python",
   "nbconvert_exporter": "python",
   "pygments_lexer": "ipython2",
   "version": "2.7.6"
  }
 },
 "nbformat": 4,
 "nbformat_minor": 0
}
