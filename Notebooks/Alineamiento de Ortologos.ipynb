{
 "cells": [
  {
   "cell_type": "code",
   "execution_count": 1,
   "metadata": {
    "collapsed": false,
    "slideshow": {
     "slide_type": "slide"
    }
   },
   "outputs": [
    {
     "name": "stdout",
     "output_type": "stream",
     "text": [
      "from IPython.display import HTML\r\n",
      "\r\n",
      "def web(direccion, alto=500):\r\n",
      "    \"\"\"str [, int]\r\n",
      "    Muestra una web\"\"\"\r\n",
      "    code = '<iframe src=\"' + direccion +  '\"  width=100% height=' + str(alto) + '></iframe>'\r\n",
      "    return( HTML(code) )\r\n",
      "\r\n",
      "def wiki(art, idioma=\"en\", modo=None, alto=500):\r\n",
      "    \"\"\"str [, str [, str [, int]]]\r\n",
      "    Muestra una wiki por defecto en idioma 'en'\r\n",
      "    modo por defecto, None (normal). Probar 'mobile' o 'print'\r\n",
      "    \"\"\"\r\n",
      "    if modo==\"print\":\r\n",
      "        direc = 'http://' + idioma + '.wikipedia.org/w/index.php?title=' + art + '&printable=yes'\r\n",
      "    elif modo==\"mobile\":\r\n",
      "        direc = \"http://\" + idioma + \".mobile.wikipedia.org/wiki/\" + art\r\n",
      "    else:\r\n",
      "        direc = \"http://\" + idioma + \".wikipedia.org/wiki/\" + art\r\n",
      "    return( web(direc, alto=alto) )\r\n",
      "\r\n",
      "if __name__ == \"__main__\":\r\n",
      "  print(\"Para importar en IPython Notebook\")\r\n"
     ]
    }
   ],
   "source": [
    "! cat utils_notebook.py"
   ]
  },
  {
   "cell_type": "code",
   "execution_count": 2,
   "metadata": {
    "collapsed": false,
    "slideshow": {
     "slide_type": "fragment"
    }
   },
   "outputs": [],
   "source": [
    "import utils_notebook as ut"
   ]
  },
  {
   "cell_type": "markdown",
   "metadata": {
    "slideshow": {
     "slide_type": "slide"
    }
   },
   "source": [
    "# Alineamiento de un grupo de Ortólogos"
   ]
  },
  {
   "cell_type": "markdown",
   "metadata": {
    "slideshow": {
     "slide_type": "slide"
    }
   },
   "source": [
    "<img src=\"imagenes/oma.png\">"
   ]
  },
  {
   "cell_type": "markdown",
   "metadata": {
    "slideshow": {
     "slide_type": "fragment"
    }
   },
   "source": [
    "<img src=\"imagenes/fasta.png\">"
   ]
  },
  {
   "cell_type": "markdown",
   "metadata": {
    "slideshow": {
     "slide_type": "slide"
    }
   },
   "source": [
    "De manera similar a [wget en bash](http://manpages.ubuntu.com/manpages/precise/man1/wget.1.html), es posible descargar un archivo desde Python usando [urlretrieve del módulo urllib](https://docs.python.org/2/library/urllib.html#urllib.urlretrieve)"
   ]
  },
  {
   "cell_type": "code",
   "execution_count": 29,
   "metadata": {
    "collapsed": false,
    "slideshow": {
     "slide_type": "fragment"
    }
   },
   "outputs": [
    {
     "data": {
      "text/plain": [
       "('RATNO03710.fasta', <httplib.HTTPMessage instance at 0x7f9a0c5f4fc8>)"
      ]
     },
     "execution_count": 29,
     "metadata": {},
     "output_type": "execute_result"
    }
   ],
   "source": [
    "from urllib import urlretrieve\n",
    "\n",
    "urlretrieve(url=\"http://omabrowser.org/oma/vps/RATNO03710/fasta/\", filename=\"RATNO03710.fasta\")"
   ]
  },
  {
   "cell_type": "markdown",
   "metadata": {
    "slideshow": {
     "slide_type": "fragment"
    }
   },
   "source": [
    "```!``` al principio de la celda para correr cosas en ```bash``` sólo funciona para ```IPython```. Cuando queremos correr algo en la consola desde otro lugar (en un *script* por ejemplo) lo correcto es usar el [módulo subprocess](https://docs.python.org/2/library/subprocess.html). "
   ]
  },
  {
   "cell_type": "code",
   "execution_count": 30,
   "metadata": {
    "collapsed": false,
    "slideshow": {
     "slide_type": "fragment"
    }
   },
   "outputs": [
    {
     "name": "stdout",
     "output_type": "stream",
     "text": [
      ">RATNO03710 | P53_RAT | self | [Rattus norvegicus]\n",
      "MEDSQSDMSIELPLSQETFSCLWKLLPPDDILPTTATGSPNSMEDLFLPQDVAELLEGPEEALQVSAPAAQEPGTEAPAP\n",
      "VAPASATPWPLSSSVPSQKTYQGNYGFHLGFLQSGTAKSVMCTYSISLNKLFCQLAKTCPVQLWVTSTPPPGTRVRAMAI\n",
      "YKKSQHMTEVVRRCPHHERCSDGDGLAPPQHLIRVEGNPYAEYLDDRQTFRHSVVVPYEPPEVGSDYTTIHYKYMCNSSC\n",
      "MGGMNRRPILTIITLEDSSGNLLGRDSFEVRVCACPGRDRRTEEENFRKKEEHCPELPPGSAKRALPTSTSSSPQQKKKP\n",
      "LDGEYFTLKIRGRERFEMFRELNEALELKDARAAEESGDSRAHSSYPKTKKGQSTSRHKKPMIKKVGPDSD\n",
      "\n",
      ">MOUSE03360 | Q549C9 | 1:1 ortholog | [Mus musculus]\n",
      "MTAMEESQSDISLELPLSQETFSGLWKLLPPEDILPSPHCMDDLLLPQDVEEFFEGPSEALRVSGAPAAQDPVTETPGPV\n",
      "APAPATPWPLSSFVPSQKTYQGNYGFHLGFLQSGTAKSVMCTYSPPLNKLFCQLAKTCPVQLWVSATPPAGSRVRAMAIY\n",
      "\n"
     ]
    }
   ],
   "source": [
    "import subprocess\n",
    "\n",
    "print( subprocess.check_output([\"head\",\"RATNO03710.fasta\"]) )"
   ]
  },
  {
   "cell_type": "code",
   "execution_count": 31,
   "metadata": {
    "collapsed": false,
    "slideshow": {
     "slide_type": "slide"
    }
   },
   "outputs": [
    {
     "name": "stdout",
     "output_type": "stream",
     "text": [
      "RATNO03710 | P53_RAT | self | [Rattus norvegicus]\n",
      "MOUSE03360 | Q549C9 | 1:1 ortholog | [Mus musculus]\n",
      "CIOIN05889 | F6SSG7 | 1:1 ortholog | [Ciona intestinalis]\n",
      "CIOSA13478 | H2ZGE3 | 1:1 ortholog | [Ciona savignyi]\n",
      "ORYLA07425 | H2LPP5 | 1:1 ortholog | [Oryzias latipes]\n",
      "TUPBE00446 | ENSTBEG00000011771 | 1:1 ortholog | [Tupaia belangeri]\n",
      "DAPPU06159 | E9FW11 | 1:1 ortholog | [Daphnia pulex]\n",
      "BRAFL04526 | C3YXH3 | 1:1 ortholog | [Branchiostoma floridae]\n",
      "PEDHC00225 | E0V916 | 1:1 ortholog | [Pediculus humanus subsp. corporis]\n",
      "GADMO03540 | ENSGMOG00000000413 | 1:1 ortholog | [Gadus morhua]\n",
      "LATCH10910 | H3B1Z4 | 1:1 ortholog | [Latimeria chalumnae]\n",
      "LEPOC07666 | W5N8V4 | 1:1 ortholog | [Lepisosteus oculatus]\n",
      "ASTMX10477 | W5KI53 | 1:1 ortholog | [Astyanax mexicanus]\n",
      "NASVI15815 | K7IV69 | 1:1 ortholog | [Nasonia vitripennis]\n",
      "DANRE21553 | G1K2L5 | m:1 ortholog | [Danio rerio]\n",
      "XENTR12242 | F7A9U0 | m:1 ortholog | [Xenopus tropicalis]\n",
      "TETNG08947 | H3CXQ0 | m:1 ortholog | [Tetraodon nigroviridis]\n",
      "TAKRU14704 | H2U134 | m:1 ortholog | [Takifugu rubripes]\n",
      "IXOSC09422 | B7PEY7 | m:1 ortholog | [Ixodes scapularis]\n",
      "XIPMA11214 | P53_XIPMA | m:1 ortholog | [Xiphophorus maculatus]\n",
      "POEFO05791 | A0A096MBY3 | m:1 ortholog | [Poecilia formosa]\n",
      "GASAC18178 | G3Q6V4 | m:n ortholog | [Gasterosteus aculeatus]\n",
      "GASAC12863 | G3PK82 | m:n ortholog | [Gasterosteus aculeatus]\n",
      "RATNO10594 | M0R497 | close paralog | [Rattus norvegicus]\n"
     ]
    }
   ],
   "source": [
    "from Bio import SeqIO\n",
    "\n",
    "sequencias = SeqIO.parse(\"RATNO03710.fasta\",\"fasta\")\n",
    "\n",
    "for record in sequencias:\n",
    "    print(record.description)"
   ]
  },
  {
   "cell_type": "code",
   "execution_count": 8,
   "metadata": {
    "collapsed": false,
    "slideshow": {
     "slide_type": "slide"
    }
   },
   "outputs": [
    {
     "data": {
      "text/html": [
       "<iframe src=\"http://xkcd.com/208/\"  width=100% height=500></iframe>"
      ],
      "text/plain": [
       "<IPython.core.display.HTML object>"
      ]
     },
     "execution_count": 8,
     "metadata": {},
     "output_type": "execute_result"
    }
   ],
   "source": [
    "ut.web(\"http://xkcd.com/208/\")"
   ]
  },
  {
   "cell_type": "markdown",
   "metadata": {
    "slideshow": {
     "slide_type": "slide"
    }
   },
   "source": [
    "En Python las expresiones regulares se obtienen a través del [módulo re](https://docs.python.org/2/library/re.html)."
   ]
  },
  {
   "cell_type": "code",
   "execution_count": 14,
   "metadata": {
    "collapsed": false,
    "slideshow": {
     "slide_type": "fragment"
    }
   },
   "outputs": [],
   "source": [
    "import re\n",
    "\n",
    "expresion_regular = re.compile(\" 1:1 ortholog | self \")"
   ]
  },
  {
   "cell_type": "code",
   "execution_count": 15,
   "metadata": {
    "collapsed": false,
    "slideshow": {
     "slide_type": "fragment"
    }
   },
   "outputs": [
    {
     "data": {
      "text/html": [
       "<iframe src=\"http://regex101.com\"  width=100% height=500></iframe>"
      ],
      "text/plain": [
       "<IPython.core.display.HTML object>"
      ]
     },
     "execution_count": 15,
     "metadata": {},
     "output_type": "execute_result"
    }
   ],
   "source": [
    "ut.web(\"http://regex101.com\", alto=500)"
   ]
  },
  {
   "cell_type": "code",
   "execution_count": 32,
   "metadata": {
    "collapsed": false,
    "slideshow": {
     "slide_type": "slide"
    }
   },
   "outputs": [
    {
     "data": {
      "text/plain": [
       "{'ASTMX10477 | W5KI53 | 1:1 ortholog | [Astyanax mexicanus]': Seq('MSDLEIMAMPMSQGTFEQLWGDIGSDSGFNHLIAELPRADSDAWLSVALPDGNF...DTD', SingleLetterAlphabet()),\n",
       " 'BRAFL04526 | C3YXH3 | 1:1 ortholog | [Branchiostoma floridae]': Seq('MEDSLPFPDLDNDTTTTFAQLWNDSSITEADFGDMGEFFQQMEGNVRNVSNDHS...TWE', SingleLetterAlphabet()),\n",
       " 'CIOIN05889 | F6SSG7 | 1:1 ortholog | [Ciona intestinalis]': Seq('MAVADTSELNFPDSQESFSDFWMNTLSENNELPSWQTDLNQEYDQCKETVDVLQ...NQI', SingleLetterAlphabet()),\n",
       " 'CIOSA13478 | H2ZGE3 | 1:1 ortholog | [Ciona savignyi]': Seq('FNMADSTEPNLPDSQESFSEFWCSSLQTNDFPNIVIDESALPATSNWQTYTTMA...NQM', SingleLetterAlphabet()),\n",
       " 'DAPPU06159 | E9FW11 | 1:1 ortholog | [Daphnia pulex]': Seq('MDGQPPGYYDFQQQQLMDTTTYPINNCPVVPINTSPTFDISNGVPAMELWPGHL...EEP', SingleLetterAlphabet()),\n",
       " 'GADMO03540 | ENSGMOG00000000413 | 1:1 ortholog | [Gadus morhua]': Seq('MLYLEGLTAAYSESQYTNLGLLNSMDQSIQNGGSTSTSPYNNDHAQNNVAAPSP...LQK', SingleLetterAlphabet()),\n",
       " 'LATCH10910 | H3B1Z4 | 1:1 ortholog | [Latimeria chalumnae]': Seq('MTDPMSESGLEPLSQESFADLWNLLPTSMSNNVDLLPEETWQAELDDLRLPGEM...GGG', SingleLetterAlphabet()),\n",
       " 'LEPOC07666 | W5N8V4 | 1:1 ortholog | [Lepisosteus oculatus]': Seq('MADPEPEGLPLSQESFQELWNMVIVLHRAVPPENAQWPDLQSMLYTNELVPNAI...DSD', SingleLetterAlphabet()),\n",
       " 'MOUSE03360 | Q549C9 | 1:1 ortholog | [Mus musculus]': Seq('MTAMEESQSDISLELPLSQETFSGLWKLLPPEDILPSPHCMDDLLLPQDVEEFF...DSD', SingleLetterAlphabet()),\n",
       " 'NASVI15815 | K7IV69 | 1:1 ortholog | [Nasonia vitripennis]': Seq('MTREGSSLLTNSQEEQLLQEYATTNGTIDIDPLQFSLSLGNLGDAFGSHSFANC...KSQ', SingleLetterAlphabet()),\n",
       " 'ORYLA07425 | H2LPP5 | 1:1 ortholog | [Oryzias latipes]': Seq('WESMDPVPDLPESQGSFQELWETVYPPLETLSLPTVNEPTGSWVATGDMFLLDQ...DQT', SingleLetterAlphabet()),\n",
       " 'PEDHC00225 | E0V916 | 1:1 ortholog | [Pediculus humanus subsp. corporis]': Seq('MASWYSCRTNESLEREESDILNPEEFQHVLEYEPPVLNETKIYCQPSLPSADST...IDS', SingleLetterAlphabet()),\n",
       " 'RATNO03710 | P53_RAT | self | [Rattus norvegicus]': Seq('MEDSQSDMSIELPLSQETFSCLWKLLPPDDILPTTATGSPNSMEDLFLPQDVAE...DSD', SingleLetterAlphabet()),\n",
       " 'TUPBE00446 | ENSTBEG00000011771 | 1:1 ortholog | [Tupaia belangeri]': Seq('MEEPQSDLSVELPLSQETFSDLWSLLPGQDLLSSSMPPPAQDLMLPTEDWFNED...DSD', SingleLetterAlphabet())}"
      ]
     },
     "execution_count": 32,
     "metadata": {},
     "output_type": "execute_result"
    }
   ],
   "source": [
    "ortholog = {}\n",
    "\n",
    "sequencias = SeqIO.parse(\"RATNO03710.fasta\",\"fasta\")\n",
    "\n",
    "for record in sequencias:\n",
    "    if expresion_regular.search(record.description):\n",
    "        ortholog[record.description] = record.seq\n",
    "\n",
    "ortholog"
   ]
  },
  {
   "cell_type": "code",
   "execution_count": 34,
   "metadata": {
    "collapsed": false,
    "slideshow": {
     "slide_type": "slide"
    }
   },
   "outputs": [],
   "source": [
    "with open(\"RATNO03710_ortologos.fasta\",\"w\") as fh:\n",
    "    for desc, seq in ortholog.iteritems():\n",
    "        ident = desc.split(\"|\")[0].replace(\" \",\"\")\n",
    "        fh.write(\">%s\\n%s\\n\"%(ident,seq))"
   ]
  },
  {
   "cell_type": "code",
   "execution_count": 41,
   "metadata": {
    "collapsed": false,
    "slideshow": {
     "slide_type": "fragment"
    }
   },
   "outputs": [
    {
     "data": {
      "text/plain": [
       "'>PEDHC00225\\nMASWYSCRTNESLEREESDILNPEEFQHVLEYEPPVLNETKIYCQPSLPSADSTFVNNTNSTSTGPLPAREDYPGPFAFSVLLDGVESTKNKWTYSTMLNKLYIVWDKIIPIQFKWIPSEPNFVVRALPVYTDAQDMKLAVKRCLIHLNASDPTNEGFEHVKHVIRSDNPGVYYEENQESERCSVVVPLGELQPGTGTVTVTYKFMCKTTCVTGMMRRPITVLFTLERPNGEVVGRQKLNVKICSCPKRDMQKDESSANEKQEEGRKRPLALASTSKRMKTEDEEEEFHLDMVIENKDTYKCILESMHAAILRIMRMTQKTHSSYSELTKLLRDVETRLSRLIDS\\n'"
      ]
     },
     "execution_count": 41,
     "metadata": {},
     "output_type": "execute_result"
    }
   ],
   "source": [
    "salida = subprocess.check_output([\"head\", \"-2\", \"RATNO03710_ortologos.fasta\"])\n",
    "\n",
    "salida"
   ]
  },
  {
   "cell_type": "code",
   "execution_count": 42,
   "metadata": {
    "collapsed": false,
    "slideshow": {
     "slide_type": "fragment"
    }
   },
   "outputs": [
    {
     "name": "stdout",
     "output_type": "stream",
     "text": [
      ">PEDHC00225\n",
      "MASWYSCRTNESLEREESDILNPEEFQHVLEYEPPVLNETKIYCQPSLPSADSTFVNNTNSTSTGPLPAREDYPGPFAFSVLLDGVESTKNKWTYSTMLNKLYIVWDKIIPIQFKWIPSEPNFVVRALPVYTDAQDMKLAVKRCLIHLNASDPTNEGFEHVKHVIRSDNPGVYYEENQESERCSVVVPLGELQPGTGTVTVTYKFMCKTTCVTGMMRRPITVLFTLERPNGEVVGRQKLNVKICSCPKRDMQKDESSANEKQEEGRKRPLALASTSKRMKTEDEEEEFHLDMVIENKDTYKCILESMHAAILRIMRMTQKTHSSYSELTKLLRDVETRLSRLIDS\n",
      "\n"
     ]
    }
   ],
   "source": [
    "print( salida )"
   ]
  },
  {
   "cell_type": "markdown",
   "metadata": {
    "slideshow": {
     "slide_type": "slide"
    }
   },
   "source": [
    "Para poder alinear nuestras secuencias vamos a instalar el **clustalw**, no es el mejor programa para realizar alineamientos múltiples, pero nos servirá.\n",
    "Para **instalar un paquete en Ubuntu** necesitamos hacer `apt-get install` como superusuarios (`sudo`), por ejemplo en este caso:\n",
    "```bash\n",
    "sudo apt-get install clustalw\n",
    "```\n",
    "En muchos casos, si no está instalado el software que necesitan, Ubuntu les va a decir que necesitan instalar para conseguirlo:\n",
    "```\n",
    "bioinfo@bioinfo:~$ clustalw\n",
    "El programa «clustalw» no está instalado. Puede instalarlo escribiendo:\n",
    "sudo apt-get install clustalw\n",
    "```"
   ]
  },
  {
   "cell_type": "markdown",
   "metadata": {
    "slideshow": {
     "slide_type": "slide"
    }
   },
   "source": [
    "*Clustal* tiene muchos argumentos que puede recibir por línea de comandos y que nos permiten personalizar su corrida. Pueden usar `man clustalw` en la consola de *bash* o [googlear esa misma frase](https://hpcwebapps.cit.nih.gov/multi-align/man/clustalw.1.html) para ver la documentación. En particular, nosotros usaremos los siguientes argumentos:\n",
    "\n",
    ">   -INFILE=xxx.yyy  \n",
    "          input sequence file  \n",
    "     -outfile=xxx.yyy  \n",
    "          output sequence alignment file name  \n",
    "     -output=xxx  \n",
    "          output has sequences in xxx format. Choices are GCG,  \n",
    "          GDE, PHYLIP or PIR.  "
   ]
  },
  {
   "cell_type": "markdown",
   "metadata": {
    "slideshow": {
     "slide_type": "fragment"
    }
   },
   "source": [
    "Podemos ejecutar programas y comandos del sistema usando [call](https://docs.python.org/2/library/subprocess.html#using-the-subprocess-module) de *subprocess*."
   ]
  },
  {
   "cell_type": "code",
   "execution_count": 43,
   "metadata": {
    "collapsed": false,
    "slideshow": {
     "slide_type": "fragment"
    }
   },
   "outputs": [
    {
     "data": {
      "text/plain": [
       "0"
      ]
     },
     "execution_count": 43,
     "metadata": {},
     "output_type": "execute_result"
    }
   ],
   "source": [
    "# En Bash:\n",
    "# clustalw -INFILE=RATNO03710_ortologos.fasta -align -outfile=RATNO03710_ortologos.phylip -output=PHYLIP\n",
    "\n",
    "# Desde Python:\n",
    "subprocess.call([\"clustalw\", \"-INFILE=RATNO03710_ortologos.fasta\", \"-align\", \n",
    "                 \"-outfile=RATNO03710_ortologos.phylip\", \"-output=PHYLIP\"])"
   ]
  },
  {
   "cell_type": "markdown",
   "metadata": {
    "slideshow": {
     "slide_type": "slide"
    }
   },
   "source": [
    "Por cuestiones de seguridad informática no es recomendable llamar al sistema operativo de manera directa para hacer *pipes*. [Es necesario usar](https://docs.python.org/2/library/subprocess.html#replacing-shell-pipeline) `Popen`, `PIPE` y `comunicate` de *subprocess* en lugar de una llamada directa al sistema:"
   ]
  },
  {
   "cell_type": "code",
   "execution_count": 55,
   "metadata": {
    "collapsed": false,
    "slideshow": {
     "slide_type": "fragment"
    }
   },
   "outputs": [
    {
     "name": "stdout",
     "output_type": "stream",
     "text": [
      "-rw-rw-r-- 1 dzea dzea    10339 mar 21 21:32 RATNO03710.fasta\r\n",
      "-rw-rw-r-- 1 dzea dzea     5444 mar 21 21:33 RATNO03710_ortologos.fasta\r\n",
      "-rw-rw-r-- 1 dzea dzea      415 mar 21 21:35 RATNO03710_ortologos.dnd\r\n",
      "-rw-rw-r-- 1 dzea dzea     9361 mar 21 21:35 RATNO03710_ortologos.phylip\r\n",
      "-rw-rw-r-- 1 dzea dzea    21760 mar 21 21:38 Alineamiento de Ortologos.ipynb\r\n"
     ]
    }
   ],
   "source": [
    "! ls -ltr | tail -5"
   ]
  },
  {
   "cell_type": "code",
   "execution_count": 56,
   "metadata": {
    "collapsed": false,
    "slideshow": {
     "slide_type": "fragment"
    }
   },
   "outputs": [
    {
     "name": "stdout",
     "output_type": "stream",
     "text": [
      "-rw-rw-r-- 1 dzea dzea    10339 mar 21 21:32 RATNO03710.fasta\n",
      "-rw-rw-r-- 1 dzea dzea     5444 mar 21 21:33 RATNO03710_ortologos.fasta\n",
      "-rw-rw-r-- 1 dzea dzea      415 mar 21 21:35 RATNO03710_ortologos.dnd\n",
      "-rw-rw-r-- 1 dzea dzea     9361 mar 21 21:35 RATNO03710_ortologos.phylip\n",
      "-rw-rw-r-- 1 dzea dzea    21760 mar 21 21:38 Alineamiento de Ortologos.ipynb\n",
      "\n"
     ]
    }
   ],
   "source": [
    "p1 = subprocess.Popen([\"ls\", \"-ltr\"], stdout=subprocess.PIPE)\n",
    "p2 = subprocess.Popen([\"tail\", \"-5\"], stdin=p1.stdout, stdout=subprocess.PIPE)\n",
    "p1.stdout.close()  # Allow p1 to receive a SIGPIPE if p2 exits.\n",
    "output = p2.communicate()[0]\n",
    "\n",
    "print(output)"
   ]
  },
  {
   "cell_type": "code",
   "execution_count": 57,
   "metadata": {
    "collapsed": false,
    "slideshow": {
     "slide_type": "slide"
    }
   },
   "outputs": [
    {
     "data": {
      "text/plain": [
       "['image_trimmed.png',\n",
       " 'blastn_filter.txt',\n",
       " 'ejemplo.pyc',\n",
       " 'ortologos_clean.dnd',\n",
       " 'imagen_todo.png',\n",
       " 'clases_anteriores.py',\n",
       " 'ortologos.dnd',\n",
       " 'mammals.csv',\n",
       " 'List comprehension.ipynb',\n",
       " 'sequence.fasta',\n",
       " 'codones.txt',\n",
       " 'BioSeq.ipynb',\n",
       " 'imagen_toxo_1.png',\n",
       " 'BLAST.ipynb',\n",
       " 'aln_ortologos.phylip',\n",
       " 'ortologos.aln',\n",
       " 'PlantGrowth.tsv',\n",
       " 'toxo.phr',\n",
       " 'imagen_final2.png',\n",
       " 'pdb4ni1.ent',\n",
       " 'clases_anteriores.pyc',\n",
       " 'Alineamiento de Ortologos.ipynb',\n",
       " 'utils_notebook.py',\n",
       " 'utils_notebook.pyc',\n",
       " 'ortologos_clean.fasta',\n",
       " 'blastn.txt',\n",
       " 'Scripts en Python.ipynb',\n",
       " 'RATNO03710.fasta',\n",
       " 'ejemplo.py',\n",
       " 'imagen_toxo_2.png',\n",
       " '.ipynb_checkpoints',\n",
       " 'Animals2.csv',\n",
       " 'PDB BioPython.ipynb',\n",
       " 'ortologos.phylip',\n",
       " 'imagen_final.png',\n",
       " 'RATNO03710_ortologos.dnd',\n",
       " 'imagen_blastx.png',\n",
       " 'RATNO03710_ortologos.phylip',\n",
       " 'blastn_trimmed.txt',\n",
       " 'imagenes',\n",
       " 'ortologos.html',\n",
       " 'Normalidad.ipynb',\n",
       " 'NA.ipynb',\n",
       " 'wrong.file',\n",
       " 'RATNO03710_ortologos.fasta',\n",
       " 'Explorando Datos con pandas.ipynb',\n",
       " 'formatdb.log',\n",
       " 'blastx.txt',\n",
       " 'toxo.psq',\n",
       " 'Ejercicios.ipynb',\n",
       " 'Primeros pasos.ipynb',\n",
       " 'starts.txt',\n",
       " 'imagen_fasta.png',\n",
       " 'ejemplo_2.pyc',\n",
       " 'Secuencias & Escritura de Archivos.ipynb',\n",
       " 'Lectura de Archivos & Gr\\xc3\\xa1ficos.ipynb',\n",
       " 'cluster_agriculture.txt',\n",
       " 'toxo.pin',\n",
       " 'Analizando Datos en Grupos.ipynb',\n",
       " 'imagen_toxo_3.png',\n",
       " 'ortologos_clean.phylip',\n",
       " 'toxo.fasta',\n",
       " 'BioSeq - Iteration & Slicing .ipynb']"
      ]
     },
     "execution_count": 57,
     "metadata": {},
     "output_type": "execute_result"
    }
   ],
   "source": [
    "subprocess.os.listdir(\".\") # Como ls pero para Python"
   ]
  },
  {
   "cell_type": "code",
   "execution_count": 61,
   "metadata": {
    "collapsed": false,
    "slideshow": {
     "slide_type": "slide"
    }
   },
   "outputs": [
    {
     "name": "stdout",
     "output_type": "stream",
     "text": [
      "    14    498\r\n",
      "RATNO03710 ---MEDSQSD MSIELPLSQE TFSCLWKLLP ---------- --PDDILPTT \r\n",
      "MOUSE03360 MTAMEESQSD ISLELPLSQE TFSGLWKLLP ---------- --PEDILP-- \r\n",
      "TUPBE00446 ---MEEPQSD LSVELPLSQE TFSDLWSLLP ---------- --GQDLLSSS \r\n",
      "LEPOC07666 ---MADPEPE G---LPLSQE SFQELWNMVI VLH------- R---AVPPEN \r\n",
      "LATCH10910 ---MTDPMSE SGL-EPLSQE SFADLWNLLP TSM------- SNNVDLLPEE \r\n",
      "ORYLA07425 -----WESMD PVPDLPESQG SFQELWETVY PP-------- ---LETLSLP \r\n",
      "ASTMX10477 ------MSDL EIMAMPMSQG TFEQLWGDIG SDS------- G--FNHLIAE \r\n",
      "GADMO03540 ------MLYL EGLTAAYSES QYTNLG---- ---------- ---------- \r\n",
      "CIOIN05889 ----MAVADT SELNFPDSQE SFSDFWMNTL SENNELPSWQ TDLNQEYDQC \r\n",
      "CIOSA13478 ----FNMADS TEPNLPDSQE SFSEFWCSSL QTN-DFPNIV IDESALPATS \r\n",
      "BRAFL04526 ----MEDSLP FPDLDNDTTT TFAQLWNDSS ---------- --ITEADFGD \r\n",
      "PEDHC00225 ---------- --------MA SWYSCRTNES ---------- ---------- \r\n",
      "DAPPU06159 ---------- ----MDGQPP GYYDFQ---- ---------- ---------- \r\n",
      "NASVI15815 ----MTREGS SLLTNSQEEQ LLQEYATTNG ---------- --TIDIDPLQ \r\n",
      "\r\n",
      "           ATGSPNSMED LFLPQDVAEL LE----GPEE ALQVS-APAA QEPGTEAPAP \r\n",
      "           ---SPHCMDD LLLPQDVEEF FE----GPSE ALRVSGAPAA QDPVTETPGP \r\n",
      "           ---MPPPAQD LMLP-TEDWF NE----DPDE ALRMATAPVP -----TVPTA \r\n",
      "           --AQWPDLQS MLYTNELVP- ---NAIDS-- ---LYEELEP HVS--MPPQP \r\n",
      "           --TWQAELDD LRLPGEMGAP LQTMTVSSNF GAFLESELEA GLASAAPPPP \r\n",
      "           ---TVNEPTG SWVATGDMFL LD-----QDL SGTFDDKIF- ----DIPIEP \r\n",
      "           ---LPRADSD AWLS---VAL PD-----GNF NENFDELEIS EATGDIAVPP \r\n",
      "           ---LLNSMDQ SIQNGGSTST SP-------- ----YNNDHA QNNVAAPSPY \r\n",
      "           KETVDVLQLD TTKANDIEFP VS----EFLT SSQASQQSIG DLFAQSLPST \r\n",
      "           NWQTYTTMAP VCSLLDIGAQ INHGDDTGLF DFNCSQHSAD DLFDQSLPST \r\n",
      "           MGEFFQQMEG NVRNVSNDHS YS------QH SDQSDQGSET TAMEGQQTDR \r\n",
      "           ---LEREESD ILNPEEFQHV LEY------- -EPPVLNETK IYCQPSLPSA \r\n",
      "           ---------- ---------- ---------- ----QQQLMD TTTYPINNCP \r\n",
      "           FSLSLGNLGD AFGSHSFANC EYVNEQTNVE EDKLQLQQML AMSNQQQMVQ \r\n",
      "\r\n",
      "           VAPASAT-PW PLSSSVPSQ- ---------- ---------- --------KT \r\n",
      "           VAPAPAT-PW PLSSFVPSQ- ---------- ---------- --------KT \r\n",
      "           ASSAPAT-SW PLSSSVPSE- ---------- ---------- --------KT \r\n",
      "           MVSNPDG-LA PSSSTVPST- ---------- ---------- --------SD \r\n",
      "           APPAPSGESI PVTSSVPST- ---------- ---------- --------ED \r\n",
      "           --VPTNEVNP PP-TTVPVT- ---------- ---------- --------TD \r\n",
      "           GILPSLDSLP PPAAVVPAT- ---------- ---------- --------SD \r\n",
      "           SQPSSTFDAL SPSPAIPSN- ---------- ---------- --------TD \r\n",
      "           QCGGNSQVTT VSKHEYPDSG YVMTLPNNSV LAELQTSSLQ TEVSLLPNNE \r\n",
      "           QASITCHTSV GAQQECSIS- -----QNTLL VQKIETPSII SILPKFS--E \r\n",
      "           VTSSVTSGPS ATSSDVPST- ---------- ---------- --------TV \r\n",
      "           DSTFVNNTNS TSTGPLPAR- ---------- ---------- --------ED \r\n",
      "           VVPINTSPTF DISNGVPAM- ---------- ---------- --------EL \r\n",
      "           QIQPQQQQQP SIAAPILGK- ---------- ---------- --------DE \r\n",
      "\r\n",
      "           YQGNYGFHLG FLQS---GTA KSVMCTYSIS LNKLFCQLAK TCPVQLWVT- \r\n",
      "           YQGNYGFHLG FLQS---GTA KSVMCTYSPP LNKLFCQLAK TCPVQLWVS- \r\n",
      "           YHGSFNFRLG FLHS---GTA KSVTCTYSPD LNKLFCQLAK SCPAQLWVD- \r\n",
      "           YPGELGFQLR FQQS---GTA KSVTCTYSPD LNKLYCQLAK TCPVQIFVS- \r\n",
      "           YAGDHNFQLI FQQS---STA KSVTCTYSFT LNKLFCQLAK TCPVQIKVD- \r\n",
      "           YPGSYELELR FQKS---GTA KSVTSTYSET LNKLYCQLAK TSPIEVRVS- \r\n",
      "           YPGEYGFHLL FNQS---STA KSAISTYSTP LNKLYCQLAK TCPVDVLVE- \r\n",
      "           YAGPHTFDVS FQQS---STA KSATWTYSTE LKKLYCQIAK TCPIQIKVL- \r\n",
      "           YPGIYNFEIN FGEKTE-SAP KSAPFTYSYS LQKLFVKMNE NCPIKFRCS- \r\n",
      "           FPGVYNFQVD FGKKTD-GAP KSAPYTYSHR LHKLYVKMNE NCPIRFTCS- \r\n",
      "           YPGPYSFQVA FPPQTLKPKS KKLAWTWSEP CKMLYADFNK ICPFNFKTV- \r\n",
      "           YPGPFAFSVL LDGV----ES TKNKWTYSTM LNKLYIVWDK IIPIQFKWI- \r\n",
      "           WPGHLKFTVE FSKAQ--DKT KATPWIYSTK LKKLFVSMDK ACPISFRMDN \r\n",
      "           FAGEYNFQLI LKHH----QN NGKHWVYSEK LSKVFIHMEE VLPLHFQWT- \r\n",
      "\r\n",
      "           -STPPPGTRV RAMAIYKKSQ HMTEVVRRCP HHERCSD-GD G--LAPPQHL \r\n",
      "           -ATPPAGSRV RAMAIYKKSQ HMTEVVRRCP HHERCSD-GD G--LAPPQHL \r\n",
      "           -SALPAGTRV SAVAFFKQSQ MIAVESLRR- -HERC----- ---------- \r\n",
      "           -NPPPMGALI RAMAVYKKSE HVADVVRRCP HHERAPENNE G--PAPPGHL \r\n",
      "           -AAPPPGALI RTIAIYKKSE HIAEVVRRCP HHERCADLND G--LAPASHL \r\n",
      "           -KEPPKGAIL RATAVYKKTE HVADVVRRCP HHQ----NED S--VEHRSHL \r\n",
      "           -REPPQGAVL RATAIYKKPD HVSEVVLRCP HHQSIAENND G--FAHRSHL \r\n",
      "           -TNPPQGAVI RAMPVYKKAE HVTEVVKRCP NHELSREFND GQ-IAPPSHL \r\n",
      "           -PQPPSGCVI RAIPVFEKPN NVTEIVTRCF NHRNECRTES SDSNTPNSHL \r\n",
      "           -LSPPTGCII RAIPVFERAN NVTEMVTRCS LHSNENLSEN ---VAPKSHL \r\n",
      "           -RPPPAGCLI RAMPVYLKHE HIGLPVKRCP THRENDFNNA D----PPAHF \r\n",
      "           -PSEP-NFVV RALPVYTDAQ DMKLAVKRCL IHLNASDPTN EG-FEHVKHV \r\n",
      "           LSQEFHRYCI RGQMVYSKAD HFQDPVERCP AHKGTGPPLP Y-----TPHV \r\n",
      "           --PPTDGLWV RATMVYKLDQ HRSQPVQRCH NHMAPDNNSN RS-CDPRQLK \r\n",
      "\r\n",
      "           IRVEGNPYAE YLDDRQTFRH SVVVPYEPPE VGSDYTTIHY KYMCNSSC-- \r\n",
      "           IRVEGNLYPE YLEDRQTFRH SVVVPYEPPE AGSEYTTIHY KYMCNSSC-- \r\n",
      "           ---------- ---------- ---------- ---------- ---------- \r\n",
      "           IRVEGSQMAQ YMEDGNTRRQ SVLVPYESPQ LGSECTTVLY NFMCNSSC-- \r\n",
      "           IRVEGNRLAQ YIEDRNTQRQ CVIIPYECPQ VGSECSTVLY NFMCNSSC-- \r\n",
      "           IRVEGSQLAQ YFEDPYTKRQ SVTVPYEPPQ PGSEMTTILL SYMCNSSC-- \r\n",
      "           IRVEGNQRAQ YLEDLNTKRQ SVTVPYEIPQ LGSEGTTILL NYMCNSSC-- \r\n",
      "           IRVEGNSHAQ YMEDSITGRQ SVLVPYEPPQ VGTEFTTILY NFMCNSSC-- \r\n",
      "           IRVESKSNNI QYCLTHEGRE CVVVPYEPPH SGSEYMALLY RFMCLSSCRT \r\n",
      "           IRVEAN-HHV TYTLTSDGRE SVCTSYEGPQ AGCEYVAVLY KYMCLSSCSS \r\n",
      "           LHCQG-KAVE YREDPTTGRH SVIIPYEHPQ AGTEWSTVLY KFMCCGRD-- \r\n",
      "           IRSD-NPGVY YEENQESERC SVVVPLGELQ PGTGTVTVTY KFMCKTTC-- \r\n",
      "           LRCEDN--DS RYVDHSDMRH SVVVPLKPPA PGTQSVSLCY KFMCLSSC-- \r\n",
      "           HVIRGMHGAC TYEEASNGHL SVLTPLGTPE AGMQNVPMDF VFYCKNSC-- \r\n",
      "\r\n",
      "           MGGMNRRPIL TIITLE-DSS GNLLGRDSFE VRVCACPGRD RRTEEENFRK \r\n",
      "           MGGMNRRPIL TIITLE-DSS GNLLGRDSFE VRVCACPGRD RRTEEENFRK \r\n",
      "           ---------- -------DSX GKLLGRNSFE VRICACPGRD RRTEEENFRK \r\n",
      "           MGGMNRRPIL TIITLE-TKE GQLLGRRCFE VRVCACPGRD RKTEEENFHK \r\n",
      "           MGGMNRRPIL TIITLE-TNR GRLLGRRCFE VRVCACPGRD RKTEEENSHK \r\n",
      "           MGGMNRRPIL TILTLE-T-E GLVLGRRCFE VRICACPGRD RKTEEESRQK \r\n",
      "           LGGMNRRPIL TIMTLE-TSD GHVLGRRCFE VRVCACPGRD RKTEEENLGK \r\n",
      "           VGGMNRRPIL IIVTLE-TRD GQVLGRRCFE ARICACPGRD RKADEDSIRK \r\n",
      "           ETGINRRPLL TIFNLE-SET GELLGKRVVS TRICACPGRD RTQEEEKKNV \r\n",
      "           AGGINRRPLL TVFNLE-KKC GELLGRRVVS TRICTCPGRD RTQEEEKKGV \r\n",
      "           ------ICLL FVYFLC-YSG GAVLGRQAVN IKICSCPGRD REQDEDALLP \r\n",
      "           VTGMMRRPIT VLFTLE-RPN GEVVGRQKLN VKICSCPKRD MQKDESSANE \r\n",
      "           QGGLNRRPTK LIFTLESLTN GEVVGRYACD VRICSCPGRD IRAEEARFDK \r\n",
      "           TSGMNRRPTE VIFTLE-TDQ NKILGRRKLE VRVCSCPKRD KEKEEKEHES \r\n",
      "\r\n",
      "           KEEHCPELPP GSAKRALPTS TSS------- --------SP QQKKKP--LD \r\n",
      "           KEVLCPELPP GSAKRALPTC TSA------- --------SP PQKKKP--LD \r\n",
      "           KGESCPKLPT GSIKRALPTG SSS------- --------SP QPKKKP--LD \r\n",
      "           QQEKGSSKST GSNKRNIKEV NQSTPPSD-- --------NN KKTKSSSSAE \r\n",
      "           QQEKANPKT- -AIKRALREV SCS----D-- --------SG PYKKRAVNPE \r\n",
      "           TQPK------ -KRSMLEVTP NTS----S-- --------SK RKKSHSSGEE \r\n",
      "           KTVKTAAGAK RKCPGLDSTV TPE----S-- --------SH KKIKMDSGSD \r\n",
      "           QQVTDVTKSS DAFRQVSHGL QMS------- ---------S MKKRRS--TD \r\n",
      "           TSQNK----- -SRKRLCKSA TNSKSIPV-- --------VQ KNEENKVDND \r\n",
      "           LENKK----- -SSKR----- ------PL-- --------LP KKDNLNIDKG \r\n",
      "           QPAPGSKKRL MTDSKTSQKK RKK------- --------TS VTSSSNGVAH \r\n",
      "           KQEEGRKRPL ALASTSKRMK TED------- --------EE EEFHLDMVIE \r\n",
      "           NHSHDPTATE TDSSNLIPIE LPSMAQLKGK IKKRKAIPPP QVAQTDSTED \r\n",
      "           TLNTG----- -SKKRKSTTL MPG------- ---------- -IPPGKKLLM \r\n",
      "\r\n",
      "           G---EYFTLK IRGRERFEMF RELNEALELK D-ARAAEESG DSRAHSSYPK \r\n",
      "           G---EYFTLK IRGRKRFEMF RELNEALELK D-AHATEESG DSRAHSSYLK \r\n",
      "           E---EYFTLQ X--------- ---------- ---------- -------HLK \r\n",
      "           E---EIFTLQ VRGRERFEML KKINESLELK D-LVPVADLE KYRQKLHTRS \r\n",
      "           E---ELYSLQ VRGRERYEMF KKLNNALELQ D-SVSAAETE KHKTKP-SKN \r\n",
      "           EDNREVFHFE VYGRERYEFL KKINDGLELL EKESPTNDSS AMKKKCLTAV \r\n",
      "           D---EVFVLH VRGKERFNML KKINDSLELM D-AMPVADKD KYKVKRASKN \r\n",
      "           E---EVFCLP IKGREIYEIL VKIKESLELM Q--------- --FLPQHTIE \r\n",
      "           DDGDVVYTLN IRGKRKFEKV KEYKEALDLL D--------- ---------- \r\n",
      "           ESE--VYSLT IIGKRKFEKV KEYKEALDLM D--------- ---------- \r\n",
      "           DGEVFNVHWQ IRGRKNYETL LRVKEALEVQ HRCETDPQVT ALLRTEEEQP \r\n",
      "           NKDTYKCILE SMHAAILRIM RMTQKTHSSY S--------- ---------- \r\n",
      "           DDGIYNLNVN IKGLKNYNFI KDIISRFQHD YDGFPPG--- ---------- \r\n",
      "           DKNVFEVNLK ILGRDNYNAV IRYAHDIMAG AAIR------ ---------- \r\n",
      "\r\n",
      "           TKK------- ---GQSTSRH KKPMIKKVGP DSD------- --------\r\n",
      "           TKK------- ---GQSTSRH KKTMVKKVGP DSD------- --------\r\n",
      "           FKK------- ---GQSTSRH RKLMFKTEGP DSD------- --------\r\n",
      "           SSRREKD--- --KEKEPKKG KKLLVKEEKT DSD------- --------\r\n",
      "           ASR------- --KELEPKKG KKLLVKEEGS GGG------- --------\r\n",
      "           IAKKDI---- --FCTQPTSR SAMRTKEEQS DQT------- --------\r\n",
      "           FTKQEP---- --DLLQQSSG KKLLVKDDKT DTD------- --------\r\n",
      "           SYR------- -------QQQ QNLLQK---- ---------- --------\r\n",
      "           ---------- ---YVQPDVK KACCQRNQI- ---------- --------\r\n",
      "           ---------- ---FVQPEVK KACCDKNQM- ---------- --------\r\n",
      "           EQQQPRPPTE PTPDNPPANQ SPAVTRQAQS TQVRYTLRRT VSKPKTWE\r\n",
      "           ---------- ----ELTKLL RDVETRLSRL IDS------- --------\r\n",
      "           ---------- ---NNDQANH TDTGKRFKKE EP-------- --------\r\n",
      "           ---------- ---TGSYDLY KPYMEDAMRK SQ-------- --------\r\n"
     ]
    }
   ],
   "source": [
    "! cat RATNO03710_ortologos.phylip"
   ]
  }
 ],
 "metadata": {
  "celltoolbar": "Slideshow",
  "kernelspec": {
   "display_name": "Python 2",
   "language": "python",
   "name": "python2"
  },
  "language_info": {
   "codemirror_mode": {
    "name": "ipython",
    "version": 2
   },
   "file_extension": ".py",
   "mimetype": "text/x-python",
   "name": "python",
   "nbconvert_exporter": "python",
   "pygments_lexer": "ipython2",
   "version": "2.7.6"
  }
 },
 "nbformat": 4,
 "nbformat_minor": 0
}
