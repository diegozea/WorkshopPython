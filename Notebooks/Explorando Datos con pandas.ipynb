{
 "cells": [
  {
   "cell_type": "markdown",
   "metadata": {},
   "source": [
    "# Explorando Datos con *pandas*"
   ]
  },
  {
   "cell_type": "markdown",
   "metadata": {},
   "source": [
    "La biblioteca [**pandas**](http://pandas.pydata.org/) de Python nos permite trabajar con tablas. Permite entre otras cosas:  \n",
    "\n",
    "- Leer fácilmente archivos de texto organizados por columnas  \n",
    "- Trabajar con datos faltantes  \n",
    "- Hacer operaciones de bases de datos, como unir diferentes tablas por un ID  \n",
    "- Trabajar en datos separados por grupos (*split-apply-combine*)  \n",
    "- Obtener estadística y gráficos de los datos rápidamente  \n",
    "\n",
    "En esta [*Cheat Sheet* de **pandas**](https://github.com/pandas-dev/pandas/blob/master/doc/cheatsheet/Pandas_Cheat_Sheet.pdf) tienen un buen resumen de los métodos y operaciones básicas.  \n",
    "*pandas* usa *matplotlib* para realizar sus gráficos. A su vez, cada una de sus series de datos son objetos de *numpy*  \n",
    "Pero por el momento trataremos de mantenerlo simple, trabajando dentro de *pandas*, sin entrar demasiado en el mundo de *numpy* o *scipy*."
   ]
  },
  {
   "cell_type": "code",
   "execution_count": 1,
   "metadata": {
    "collapsed": false
   },
   "outputs": [],
   "source": [
    "import pandas as pd"
   ]
  },
  {
   "cell_type": "markdown",
   "metadata": {},
   "source": [
    "Usaremos los datos llamados *agriculture* de la biblioteca de *R cluster*. Contiene datos de Producto Nacional Bruto (*GNP* por *Gross National Product en inglés*) *per capita* y el porcentaje de la población trabajando en agricultura. Los datos son para los países de la Unión Europea en 1993. En los datos se observan dos clusters, donde los paises mas agrícolas son Grecia, Portugal, España e Irlanda."
   ]
  },
  {
   "cell_type": "code",
   "execution_count": 2,
   "metadata": {
    "collapsed": false
   },
   "outputs": [
    {
     "name": "stdout",
     "output_type": "stream",
     "text": [
      "\"country\" \"gnp\" \"population\"\r\n",
      "\"B\" 16.8 2.7\r\n",
      "\"DK\" 21.3 5.7\r\n",
      "\"D\" 18.7 3.5\r\n",
      "\"GR\" 5.9 22.2\r\n"
     ]
    }
   ],
   "source": [
    "! head -5 cluster_agriculture.txt"
   ]
  },
  {
   "cell_type": "code",
   "execution_count": 3,
   "metadata": {
    "collapsed": false
   },
   "outputs": [],
   "source": [
    "agricultura = pd.read_table(\"cluster_agriculture.txt\", delimiter=\" \")"
   ]
  },
  {
   "cell_type": "code",
   "execution_count": 4,
   "metadata": {
    "collapsed": false
   },
   "outputs": [
    {
     "data": {
      "text/plain": [
       "pandas.core.frame.DataFrame"
      ]
     },
     "execution_count": 4,
     "metadata": {},
     "output_type": "execute_result"
    }
   ],
   "source": [
    "type( agricultura )"
   ]
  },
  {
   "cell_type": "code",
   "execution_count": 5,
   "metadata": {
    "collapsed": false
   },
   "outputs": [
    {
     "data": {
      "text/html": [
       "<div style=\"max-height:1000px;max-width:1500px;overflow:auto;\">\n",
       "<table border=\"1\" class=\"dataframe\">\n",
       "  <thead>\n",
       "    <tr style=\"text-align: right;\">\n",
       "      <th></th>\n",
       "      <th>country</th>\n",
       "      <th>gnp</th>\n",
       "      <th>population</th>\n",
       "    </tr>\n",
       "  </thead>\n",
       "  <tbody>\n",
       "    <tr>\n",
       "      <th>0</th>\n",
       "      <td>  B</td>\n",
       "      <td> 16.8</td>\n",
       "      <td>  2.7</td>\n",
       "    </tr>\n",
       "    <tr>\n",
       "      <th>1</th>\n",
       "      <td> DK</td>\n",
       "      <td> 21.3</td>\n",
       "      <td>  5.7</td>\n",
       "    </tr>\n",
       "    <tr>\n",
       "      <th>2</th>\n",
       "      <td>  D</td>\n",
       "      <td> 18.7</td>\n",
       "      <td>  3.5</td>\n",
       "    </tr>\n",
       "    <tr>\n",
       "      <th>3</th>\n",
       "      <td> GR</td>\n",
       "      <td>  5.9</td>\n",
       "      <td> 22.2</td>\n",
       "    </tr>\n",
       "    <tr>\n",
       "      <th>4</th>\n",
       "      <td>  E</td>\n",
       "      <td> 11.4</td>\n",
       "      <td> 10.9</td>\n",
       "    </tr>\n",
       "  </tbody>\n",
       "</table>\n",
       "<p>5 rows × 3 columns</p>\n",
       "</div>"
      ],
      "text/plain": [
       "  country   gnp  population\n",
       "0       B  16.8         2.7\n",
       "1      DK  21.3         5.7\n",
       "2       D  18.7         3.5\n",
       "3      GR   5.9        22.2\n",
       "4       E  11.4        10.9\n",
       "\n",
       "[5 rows x 3 columns]"
      ]
     },
     "execution_count": 5,
     "metadata": {},
     "output_type": "execute_result"
    }
   ],
   "source": [
    "agricultura.head()"
   ]
  },
  {
   "cell_type": "markdown",
   "metadata": {},
   "source": [
    "Se puede fácilmente preguntarle a una columna de datos por toda una serie de [datos **estadísticos**.](http://pandas.pydata.org/pandas-docs/stable/api.html?highlight=stats#computations-descriptive-stats) Si usamos estos metodos para todo el *DataFrame*, obtendremos las respuestas para todas las columnas en las cuales tenga sentido."
   ]
  },
  {
   "cell_type": "code",
   "execution_count": 6,
   "metadata": {
    "collapsed": false
   },
   "outputs": [
    {
     "data": {
      "text/html": [
       "<div style=\"max-height:1000px;max-width:1500px;overflow:auto;\">\n",
       "<table border=\"1\" class=\"dataframe\">\n",
       "  <thead>\n",
       "    <tr style=\"text-align: right;\">\n",
       "      <th></th>\n",
       "      <th>gnp</th>\n",
       "      <th>population</th>\n",
       "    </tr>\n",
       "  </thead>\n",
       "  <tbody>\n",
       "    <tr>\n",
       "      <th>count</th>\n",
       "      <td> 12.000000</td>\n",
       "      <td> 12.000000</td>\n",
       "    </tr>\n",
       "    <tr>\n",
       "      <th>mean</th>\n",
       "      <td> 14.883333</td>\n",
       "      <td>  8.416667</td>\n",
       "    </tr>\n",
       "    <tr>\n",
       "      <th>std</th>\n",
       "      <td>  4.956508</td>\n",
       "      <td>  6.443014</td>\n",
       "    </tr>\n",
       "    <tr>\n",
       "      <th>min</th>\n",
       "      <td>  5.900000</td>\n",
       "      <td>  2.300000</td>\n",
       "    </tr>\n",
       "    <tr>\n",
       "      <th>25%</th>\n",
       "      <td> 11.275000</td>\n",
       "      <td>  3.500000</td>\n",
       "    </tr>\n",
       "    <tr>\n",
       "      <th>50%</th>\n",
       "      <td> 16.500000</td>\n",
       "      <td>  5.850000</td>\n",
       "    </tr>\n",
       "    <tr>\n",
       "      <th>75%</th>\n",
       "      <td> 18.025000</td>\n",
       "      <td> 11.675000</td>\n",
       "    </tr>\n",
       "    <tr>\n",
       "      <th>max</th>\n",
       "      <td> 21.300000</td>\n",
       "      <td> 22.200000</td>\n",
       "    </tr>\n",
       "  </tbody>\n",
       "</table>\n",
       "<p>8 rows × 2 columns</p>\n",
       "</div>"
      ],
      "text/plain": [
       "             gnp  population\n",
       "count  12.000000   12.000000\n",
       "mean   14.883333    8.416667\n",
       "std     4.956508    6.443014\n",
       "min     5.900000    2.300000\n",
       "25%    11.275000    3.500000\n",
       "50%    16.500000    5.850000\n",
       "75%    18.025000   11.675000\n",
       "max    21.300000   22.200000\n",
       "\n",
       "[8 rows x 2 columns]"
      ]
     },
     "execution_count": 6,
     "metadata": {},
     "output_type": "execute_result"
    }
   ],
   "source": [
    "agricultura.describe()"
   ]
  },
  {
   "cell_type": "code",
   "execution_count": 9,
   "metadata": {
    "collapsed": false
   },
   "outputs": [],
   "source": [
    "%matplotlib inline"
   ]
  },
  {
   "cell_type": "code",
   "execution_count": 10,
   "metadata": {
    "collapsed": false
   },
   "outputs": [
    {
     "data": {
      "text/plain": [
       "array([[<matplotlib.axes.AxesSubplot object at 0x7fa464e72390>,\n",
       "        <matplotlib.axes.AxesSubplot object at 0x7fa464a30810>]], dtype=object)"
      ]
     },
     "execution_count": 10,
     "metadata": {},
     "output_type": "execute_result"
    },
    {
     "data": {
      "image/png": "[encoded data removed]",
      "text/plain": [
       "<matplotlib.figure.Figure at 0x7fa464e72210>"
      ]
     },
     "metadata": {},
     "output_type": "display_data"
    }
   ],
   "source": [
    "agricultura.hist([\"gnp\",\"population\"])"
   ]
  },
  {
   "cell_type": "code",
   "execution_count": 11,
   "metadata": {
    "collapsed": false
   },
   "outputs": [
    {
     "data": {
      "image/png": "[encoded data removed]",
      "text/plain": [
       "<matplotlib.figure.Figure at 0x7fa46558af90>"
      ]
     },
     "metadata": {},
     "output_type": "display_data"
    }
   ],
   "source": [
    "agricultura.boxplot([\"gnp\",\"population\"]);"
   ]
  },
  {
   "cell_type": "code",
   "execution_count": 12,
   "metadata": {
    "collapsed": false
   },
   "outputs": [
    {
     "data": {
      "image/png": "[encoded data removed]",
      "text/plain": [
       "<matplotlib.figure.Figure at 0x7fa465562850>"
      ]
     },
     "metadata": {},
     "output_type": "display_data"
    }
   ],
   "source": [
    "agricultura.plot(kind=\"density\");"
   ]
  },
  {
   "cell_type": "code",
   "execution_count": 13,
   "metadata": {
    "collapsed": false
   },
   "outputs": [
    {
     "data": {
      "image/png": "[encoded data removed]",
      "text/plain": [
       "<matplotlib.figure.Figure at 0x7fa45e098e90>"
      ]
     },
     "metadata": {},
     "output_type": "display_data"
    }
   ],
   "source": [
    "agricultura.plot(x=\"population\",y=\"gnp\",kind=\"scatter\");"
   ]
  },
  {
   "cell_type": "code",
   "execution_count": 14,
   "metadata": {
    "collapsed": false
   },
   "outputs": [],
   "source": [
    "import matplotlib.pyplot as plt"
   ]
  },
  {
   "cell_type": "markdown",
   "metadata": {},
   "source": [
    "Acá encontraran como colocar el [label de texto a cada punto](http://stackoverflow.com/questions/14432557/matplotlib-scatter-plot-with-different-text-at-each-data-point) en un gráfico de matplotlib.  \n",
    "**Consejo:** Muchas veces que queremos hacer algo, pero no sabemos muy bien como... Si alguien ya lo preguntó, es muy probable que encuentres una respuesta en [**stackoverflow**.](http://stackoverflow.com/) Pueden entrar directamente a la página, o googlear para ver si hay un resultado de *stackoverflow* entre los primeros."
   ]
  },
  {
   "cell_type": "code",
   "execution_count": 15,
   "metadata": {
    "collapsed": false
   },
   "outputs": [
    {
     "data": {
      "image/png": "[encoded data removed]",
      "text/plain": [
       "<matplotlib.figure.Figure at 0x7fa465492250>"
      ]
     },
     "metadata": {},
     "output_type": "display_data"
    }
   ],
   "source": [
    "figura, eje = plt.subplots()\n",
    "eje.scatter(agricultura[\"population\"], agricultura[\"gnp\"])\n",
    "\n",
    "for i, txt in enumerate( agricultura.country ):\n",
    "    eje.annotate(txt, (agricultura.population[i] + 0.5, agricultura.gnp[i] + 0.5) )"
   ]
  },
  {
   "cell_type": "markdown",
   "metadata": {},
   "source": [
    "Es posible ne pandas hacer fácilmente una regresión de [cuadrados mínimos ordinarios (**OLS** por *Ordinary least squares*)](http://en.wikipedia.org/wiki/Ordinary_least_squares) usando *pandas.stats.api.ols*"
   ]
  },
  {
   "cell_type": "code",
   "execution_count": 16,
   "metadata": {
    "collapsed": false
   },
   "outputs": [
    {
     "data": {
      "text/plain": [
       "\n",
       "-------------------------Summary of Regression Analysis-------------------------\n",
       "\n",
       "Formula: Y ~ <x> + <intercept>\n",
       "\n",
       "Number of Observations:         12\n",
       "Number of Degrees of Freedom:   2\n",
       "\n",
       "R-squared:         0.7456\n",
       "Adj R-squared:     0.7201\n",
       "\n",
       "Rmse:              2.6222\n",
       "\n",
       "F-stat (1, 10):    29.3006, p-value:     0.0003\n",
       "\n",
       "Degrees of Freedom: model 1, resid 10\n",
       "\n",
       "-----------------------Summary of Estimated Coefficients------------------------\n",
       "      Variable       Coef    Std Err     t-stat    p-value    CI 2.5%   CI 97.5%\n",
       "--------------------------------------------------------------------------------\n",
       "             x    -0.6642     0.1227      -5.41     0.0003    -0.9048    -0.4237\n",
       "     intercept    20.4740     1.2805      15.99     0.0000    17.9642    22.9839\n",
       "---------------------------------End of Summary---------------------------------"
      ]
     },
     "execution_count": 16,
     "metadata": {},
     "output_type": "execute_result"
    }
   ],
   "source": [
    "res = pd.stats.api.ols(x=agricultura[\"population\"], y=agricultura[\"gnp\"])\n",
    "res"
   ]
  },
  {
   "cell_type": "code",
   "execution_count": 17,
   "metadata": {
    "collapsed": false
   },
   "outputs": [
    {
     "data": {
      "text/plain": [
       "[<matplotlib.lines.Line2D at 0x7fa45bb6f0d0>]"
      ]
     },
     "execution_count": 17,
     "metadata": {},
     "output_type": "execute_result"
    },
    {
     "data": {
      "image/png": "[encoded data removed]",
      "text/plain": [
       "<matplotlib.figure.Figure at 0x7fa45bbecc50>"
      ]
     },
     "metadata": {},
     "output_type": "display_data"
    }
   ],
   "source": [
    "figura, eje = plt.subplots()\n",
    "\n",
    "eje.scatter(agricultura[\"population\"], agricultura[\"gnp\"])\n",
    "\n",
    "eje.plot(res.x[\"x\"], res.predict()) # Regresion "
   ]
  },
  {
   "cell_type": "code",
   "execution_count": 18,
   "metadata": {
    "collapsed": false
   },
   "outputs": [
    {
     "data": {
      "text/plain": [
       "0     18.680576\n",
       "1     16.687854\n",
       "2     18.149184\n",
       "3      5.727882\n",
       "4     13.233802\n",
       "5     16.488582\n",
       "6     11.174656\n",
       "7     14.827980\n",
       "8     18.149184\n",
       "9     17.617791\n",
       "10     8.916238\n",
       "11    18.946272\n",
       "dtype: float64"
      ]
     },
     "execution_count": 18,
     "metadata": {},
     "output_type": "execute_result"
    }
   ],
   "source": [
    "res.predict()"
   ]
  }
 ],
 "metadata": {
  "kernelspec": {
   "display_name": "Python 2",
   "language": "python",
   "name": "python2"
  },
  "language_info": {
   "codemirror_mode": {
    "name": "ipython",
    "version": 2
   },
   "file_extension": ".py",
   "mimetype": "text/x-python",
   "name": "python",
   "nbconvert_exporter": "python",
   "pygments_lexer": "ipython2",
   "version": "2.7.6"
  }
 },
 "nbformat": 4,
 "nbformat_minor": 0
}
