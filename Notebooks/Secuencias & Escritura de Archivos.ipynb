{
 "cells": [
  {
   "cell_type": "markdown",
   "metadata": {},
   "source": [
    "# Búsqueda de codones de inicio en un archivo FASTA"
   ]
  },
  {
   "cell_type": "code",
   "execution_count": 1,
   "metadata": {
    "collapsed": false
   },
   "outputs": [],
   "source": [
    "from Bio import SeqIO\n",
    "from Bio.Data import CodonTable"
   ]
  },
  {
   "cell_type": "code",
   "execution_count": 2,
   "metadata": {
    "collapsed": false
   },
   "outputs": [],
   "source": [
    "def buscar(secuencia,codon):\n",
    "    \"\"\"(seq,str) -> list\n",
    "    Dada una secuencia y un codon\n",
    "    Retorna la lista de indices en los cuales comienza ese codon en la secuencia\n",
    "    \n",
    "    >>> buscar(\"ATGCATG\",\"ATG\")\n",
    "    [0, 4]\n",
    "    \"\"\"\n",
    "    lista = []\n",
    "    indice = 0\n",
    "    while indice < len(secuencia):\n",
    "        pos = secuencia.find(codon,indice)\n",
    "        if pos == -1 :\n",
    "            break\n",
    "        indice = pos + 1\n",
    "        lista.append(pos)\n",
    "    return( lista )"
   ]
  },
  {
   "cell_type": "code",
   "execution_count": 3,
   "metadata": {
    "collapsed": false
   },
   "outputs": [
    {
     "data": {
      "text/plain": [
       "[0, 4]"
      ]
     },
     "execution_count": 3,
     "metadata": {},
     "output_type": "execute_result"
    }
   ],
   "source": [
    "buscar(\"ATGCATG\",\"ATG\")"
   ]
  },
  {
   "cell_type": "code",
   "execution_count": 4,
   "metadata": {
    "collapsed": false
   },
   "outputs": [],
   "source": [
    "def buscar_starts(archivo, id=11):\n",
    "    \"\"\"(str,int) -> (list,list)\n",
    "    Dado un archivo FASTA, con un record, busca las posiciones de comienzo de los codones de start\n",
    "    Retorna dos listas:\n",
    "    La primera con las posiciones en la que inician los codones en la cadena sentido\n",
    "    La segunda con las posiciones en que inician los codones en la cadena antisentido \n",
    "    (segun la numeracion de la cadena sentido)\n",
    "    WARNING: Si hay mas de un record en el archivo, los resultados de las multiples cadenas se mezclaran\n",
    "    \"\"\"\n",
    "    # Inicializo las listas\n",
    "    sentido = []\n",
    "    antisentido = []\n",
    "    # Obtengo la tabla de codones\n",
    "    tabla = CodonTable.unambiguous_dna_by_id[ id ]\n",
    "    # Ejecuto para cada record del archivo\n",
    "    for seqrec in SeqIO.parse( archivo ,\"fasta\"):\n",
    "        # Obtengo la secuencia reversa complementaria\n",
    "        rc = seqrec.seq.reverse_complement()\n",
    "        # Ejecuto la busqueda para cada codon de inicio de la tabla de codones\n",
    "        for codon in tabla.start_codons:\n",
    "            # Busco los codones con la funcion definida anteriormente\n",
    "            sentido.extend( buscar(seqrec.seq, codon) )\n",
    "            antisentido.extend( buscar(rc, codon) )\n",
    "    # list-comprehensions para pasar las posiciones de la reversa complementaria a la sentido\n",
    "    return( sentido, [ ( len(rc) - 1 ) - pos for pos in antisentido ] )\n",
    "        "
   ]
  },
  {
   "cell_type": "markdown",
   "metadata": {},
   "source": [
    "Para más información en [list comprehensions](https://docs.python.org/2/tutorial/datastructures.html#list-comprehensions)"
   ]
  },
  {
   "cell_type": "code",
   "execution_count": 5,
   "metadata": {
    "collapsed": false
   },
   "outputs": [
    {
     "data": {
      "text/plain": [
       "[1664910,\n",
       " 1664821,\n",
       " 1664799,\n",
       " 1664789,\n",
       " 1664774,\n",
       " 1664737,\n",
       " 1664713,\n",
       " 1664664,\n",
       " 1664638,\n",
       " 1664605]"
      ]
     },
     "execution_count": 5,
     "metadata": {},
     "output_type": "execute_result"
    }
   ],
   "source": [
    "posiciones = buscar_starts(\"sequence.fasta\")\n",
    "posiciones[1][:10]"
   ]
  },
  {
   "cell_type": "markdown",
   "metadata": {},
   "source": [
    "# Conteo de k-mers en un archivo FASTA"
   ]
  },
  {
   "cell_type": "markdown",
   "metadata": {},
   "source": [
    "Tambien pueden ver la implementación de [Python for Biologists](http://pythonforbiologists.com/index.php/kmer-counting-business-card/)"
   ]
  },
  {
   "cell_type": "code",
   "execution_count": 6,
   "metadata": {
    "collapsed": false
   },
   "outputs": [],
   "source": [
    "from Bio.Seq import Seq\n",
    "from Bio.Alphabet import IUPAC\n",
    "seq = Seq(\"ATGCATG\", IUPAC.unambiguous_dna)"
   ]
  },
  {
   "cell_type": "code",
   "execution_count": 7,
   "metadata": {
    "collapsed": false
   },
   "outputs": [],
   "source": [
    "def kmer_count(archivo,k=3):\n",
    "    \"\"\"(str,int) -> dict\n",
    "    Dado un archivo FASTA genera un diccionario con la frecuencia de k-mers\n",
    "    \"\"\"\n",
    "    contador = {}\n",
    "    for seqrec in SeqIO.parse( archivo ,\"fasta\"):\n",
    "        seq = str( seqrec.seq )\n",
    "        for pos in range(0,len(seq)-k+1):\n",
    "            sub = seq[pos:pos+k]\n",
    "            if sub in contador:\n",
    "                contador[ sub ] += 1\n",
    "            else:\n",
    "                contador[ sub ]  = 1\n",
    "    return( contador )\n",
    "    "
   ]
  },
  {
   "cell_type": "code",
   "execution_count": 8,
   "metadata": {
    "collapsed": false
   },
   "outputs": [],
   "source": [
    "contador = kmer_count(\"sequence.fasta\")"
   ]
  },
  {
   "cell_type": "code",
   "execution_count": 9,
   "metadata": {
    "collapsed": false
   },
   "outputs": [
    {
     "data": {
      "text/plain": [
       "[('ACC', 12731),\n",
       " ('NAA', 1),\n",
       " ('CCY', 1),\n",
       " ('AGG', 19393),\n",
       " ('CCT', 18757),\n",
       " ('AGC', 18862),\n",
       " ('AGA', 39295),\n",
       " ('GSG', 1),\n",
       " ('CCG', 2807),\n",
       " ('AGT', 23069)]"
      ]
     },
     "execution_count": 9,
     "metadata": {},
     "output_type": "execute_result"
    }
   ],
   "source": [
    "contador.items()[:10]"
   ]
  },
  {
   "cell_type": "markdown",
   "metadata": {},
   "source": [
    "# Guardando los Resultados en Archivos de Texto"
   ]
  },
  {
   "cell_type": "markdown",
   "metadata": {},
   "source": [
    "Las posiciones están almacenadas en un objeto de tipo *tuple* con **dos elementos**, los cuales corresponden a dos objetos de tipo *list* que contienen valores del tipo *int*. La primera lista es la cadena **sentido**, mientras que la segunda es la **antisentido**."
   ]
  },
  {
   "cell_type": "code",
   "execution_count": 10,
   "metadata": {
    "collapsed": false
   },
   "outputs": [
    {
     "name": "stdout",
     "output_type": "stream",
     "text": [
      "<type 'tuple'>\n",
      "<type 'list'>\n",
      "<type 'int'>\n"
     ]
    }
   ],
   "source": [
    "print( type(posiciones) )\n",
    "print( type(posiciones[0]) )\n",
    "print( type(posiciones[0][0]) )"
   ]
  },
  {
   "cell_type": "markdown",
   "metadata": {},
   "source": [
    "Guardaremos esto en un sólo archivo, en al carpeta de trabajo, que tenga por nombre **starts.txt**\n",
    "El archivo contendrá dos columnas. La primera indicando si es una posición de la cadena *sentido* o *antisentido*. La segunda columna, separando con *tab*, tendrá la posición del codón de start."
   ]
  },
  {
   "cell_type": "markdown",
   "metadata": {},
   "source": [
    "Primero [abrimos el archivo](https://docs.python.org/2/tutorial/inputoutput.html#reading-and-writing-files) en modo escritura (**```w```**) usando la función **```open()```**"
   ]
  },
  {
   "cell_type": "code",
   "execution_count": 11,
   "metadata": {
    "collapsed": false
   },
   "outputs": [],
   "source": [
    "archivo = open(\"starts.txt\", \"w\")"
   ]
  },
  {
   "cell_type": "code",
   "execution_count": 12,
   "metadata": {
    "collapsed": false
   },
   "outputs": [
    {
     "data": {
      "text/plain": [
       "file"
      ]
     },
     "execution_count": 12,
     "metadata": {},
     "output_type": "execute_result"
    }
   ],
   "source": [
    "type( archivo )"
   ]
  },
  {
   "cell_type": "code",
   "execution_count": 13,
   "metadata": {
    "collapsed": false
   },
   "outputs": [
    {
     "name": "stdout",
     "output_type": "stream",
     "text": [
      "<open file 'starts.txt', mode 'w' at 0x7f74f0286660>\n"
     ]
    }
   ],
   "source": [
    "print( archivo )"
   ]
  },
  {
   "cell_type": "markdown",
   "metadata": {},
   "source": [
    "Ahora vamos a iterar sobre cada una de las listas. Los índices dentro de la tupla son ```0``` para la lista de la cadena sentido, ```1``` para la antisentido. Esas listas las podemos recorrer completas con un **```for```**. Para guardar una línea de texto en el archivo que abrimos usaremos el método **```write()```** de la clase **```file```**. La cadena **```str```** que queremos imprimir la generamos sumando pequeñas cadenas. Usaremos **```\\t```** para indicar un tab y **```\\n```** para indicar nueva línea."
   ]
  },
  {
   "cell_type": "code",
   "execution_count": 14,
   "metadata": {
    "collapsed": false
   },
   "outputs": [],
   "source": [
    "for pos in posiciones[0]:\n",
    "    archivo.write( \"sentido\\t\" + str(pos) + \"\\n\" )"
   ]
  },
  {
   "cell_type": "code",
   "execution_count": 15,
   "metadata": {
    "collapsed": false
   },
   "outputs": [],
   "source": [
    "for pos in posiciones[1]:\n",
    "    archivo.write( \"antisentido\\t\" + str(pos) + \"\\n\" )"
   ]
  },
  {
   "cell_type": "markdown",
   "metadata": {},
   "source": [
    "Una vez guardadas las líneas, tenemos que cerrar el archivo usando el método **```close```** para que el contenido se guarde."
   ]
  },
  {
   "cell_type": "code",
   "execution_count": 16,
   "metadata": {
    "collapsed": false
   },
   "outputs": [],
   "source": [
    "archivo.close()"
   ]
  },
  {
   "cell_type": "markdown",
   "metadata": {},
   "source": [
    "Estando en Ubuntu, es fácil ejecutar un pequeño **comando de la terminal** desde IPython, sólo hay que escribir **```!```** antes de escribir el comando que usamos en la terminal. Por ejemplo podemos usar **```head```** y **```tail```** para ver si nuestro archivo esta correcto."
   ]
  },
  {
   "cell_type": "code",
   "execution_count": 17,
   "metadata": {
    "collapsed": false
   },
   "outputs": [
    {
     "name": "stdout",
     "output_type": "stream",
     "text": [
      "sentido\t19\r\n",
      "sentido\t63\r\n"
     ]
    }
   ],
   "source": [
    "! head -2 starts.txt"
   ]
  },
  {
   "cell_type": "code",
   "execution_count": 18,
   "metadata": {
    "collapsed": false
   },
   "outputs": [
    {
     "name": "stdout",
     "output_type": "stream",
     "text": [
      "antisentido\t841\r\n",
      "antisentido\t709\r\n"
     ]
    }
   ],
   "source": [
    "! tail -2 starts.txt"
   ]
  },
  {
   "cell_type": "markdown",
   "metadata": {},
   "source": [
    "Una cosa útil que podemos chequear es si la cantidad de líneas del archivo es la deseada:"
   ]
  },
  {
   "cell_type": "code",
   "execution_count": 19,
   "metadata": {
    "collapsed": false
   },
   "outputs": [
    {
     "data": {
      "text/plain": [
       "493438"
      ]
     },
     "execution_count": 19,
     "metadata": {},
     "output_type": "execute_result"
    }
   ],
   "source": [
    "len(posiciones[0]) + len(posiciones[1])"
   ]
  },
  {
   "cell_type": "code",
   "execution_count": 20,
   "metadata": {
    "collapsed": false
   },
   "outputs": [
    {
     "name": "stdout",
     "output_type": "stream",
     "text": [
      "493438 starts.txt\r\n"
     ]
    }
   ],
   "source": [
    "! wc -l starts.txt"
   ]
  },
  {
   "cell_type": "markdown",
   "metadata": {},
   "source": [
    "#### Guardando el contenido del diccionario de codones"
   ]
  },
  {
   "cell_type": "markdown",
   "metadata": {},
   "source": [
    "Otra cosa útil sería guardar el diccionario de codones, también en un formato de dos columnas separadas por tabs. Pero de manera de sólo incluir el conteo de los codones que no contienen ambigüedades de IUPAC. Podemos usar conjuntos (**```set```**)"
   ]
  },
  {
   "cell_type": "code",
   "execution_count": 21,
   "metadata": {
    "collapsed": false
   },
   "outputs": [
    {
     "data": {
      "text/plain": [
       "{'A', 'B', 'C', 'D', 'G', 'H', 'K', 'M', 'N', 'R', 'S', 'T', 'V', 'W', 'Y'}"
      ]
     },
     "execution_count": 21,
     "metadata": {},
     "output_type": "execute_result"
    }
   ],
   "source": [
    "set(IUPAC.ambiguous_dna.letters)"
   ]
  },
  {
   "cell_type": "code",
   "execution_count": 22,
   "metadata": {
    "collapsed": false
   },
   "outputs": [
    {
     "data": {
      "text/plain": [
       "{'A', 'C', 'G', 'T'}"
      ]
     },
     "execution_count": 22,
     "metadata": {},
     "output_type": "execute_result"
    }
   ],
   "source": [
    "set(IUPAC.unambiguous_dna.letters)"
   ]
  },
  {
   "cell_type": "code",
   "execution_count": 23,
   "metadata": {
    "collapsed": false
   },
   "outputs": [],
   "source": [
    "ambiguas = set.difference( set(IUPAC.ambiguous_dna.letters), set(IUPAC.unambiguous_dna.letters) )"
   ]
  },
  {
   "cell_type": "markdown",
   "metadata": {},
   "source": [
    "Los diccionarios tiene maneras especiales de ser iteradas. Un de ellas es usar el método **```iteritems()```** que retorna en cada vuelta del *loop* **```for```** una tupla conteniendo una *key* y un *value* del diccionario."
   ]
  },
  {
   "cell_type": "code",
   "execution_count": 24,
   "metadata": {
    "collapsed": false
   },
   "outputs": [
    {
     "data": {
      "text/plain": [
       "<dictionary-itemiterator at 0x7f74f02ad2b8>"
      ]
     },
     "execution_count": 24,
     "metadata": {},
     "output_type": "execute_result"
    }
   ],
   "source": [
    "contador.iteritems()"
   ]
  },
  {
   "cell_type": "code",
   "execution_count": 25,
   "metadata": {
    "collapsed": false
   },
   "outputs": [
    {
     "name": "stdout",
     "output_type": "stream",
     "text": [
      "('ACC', 12731)\n"
     ]
    }
   ],
   "source": [
    "for item in contador.iteritems():\n",
    "    if len( ambiguas.intersection( set( item[0] ) ) ) == 0:\n",
    "        print item\n",
    "        break # Imprimo solo el primero, y salgo del loop, para evitar llenar la pantalla"
   ]
  },
  {
   "cell_type": "markdown",
   "metadata": {},
   "source": [
    "Una manera de poder abrir un archivo, dejando que *Python* se encargue de cerrarlo cuando terminamos de usarlo, o si surge algún error, es usando la sentencia **```with```** junto a **```open```**. Es la manera recomendada para abrir archivos. Acá la vamos a usar para abrir el archivo **codones.txt** en modo escritura (**```w```**)."
   ]
  },
  {
   "cell_type": "code",
   "execution_count": 26,
   "metadata": {
    "collapsed": false
   },
   "outputs": [],
   "source": [
    "with open(\"codones.txt\", \"w\") as archivo:\n",
    "    for llave, valor in contador.iteritems():\n",
    "        if len( ambiguas.intersection( set( llave ) ) ) == 0:\n",
    "            archivo.write( llave + \"\\t\" + str(valor) + \"\\n\" )"
   ]
  },
  {
   "cell_type": "code",
   "execution_count": 27,
   "metadata": {
    "collapsed": false
   },
   "outputs": [
    {
     "name": "stdout",
     "output_type": "stream",
     "text": [
      "ACC\t12731\r\n",
      "AGG\t19393\r\n",
      "CCT\t18757\r\n",
      "AGC\t18862\r\n",
      "AGA\t39295\r\n",
      "CCG\t2807\r\n",
      "AGT\t23069\r\n",
      "CCA\t22867\r\n",
      "CCC\t10914\r\n",
      "TAT\t59194\r\n"
     ]
    }
   ],
   "source": [
    "! head codones.txt"
   ]
  },
  {
   "cell_type": "code",
   "execution_count": 28,
   "metadata": {
    "collapsed": false
   },
   "outputs": [
    {
     "name": "stdout",
     "output_type": "stream",
     "text": [
      "64 codones.txt\r\n"
     ]
    }
   ],
   "source": [
    "! wc -l codones.txt"
   ]
  }
 ],
 "metadata": {
  "kernelspec": {
   "display_name": "Python 2",
   "language": "python",
   "name": "python2"
  },
  "language_info": {
   "codemirror_mode": {
    "name": "ipython",
    "version": 2
   },
   "file_extension": ".py",
   "mimetype": "text/x-python",
   "name": "python",
   "nbconvert_exporter": "python",
   "pygments_lexer": "ipython2",
   "version": "2.7.6"
  }
 },
 "nbformat": 4,
 "nbformat_minor": 0
}
