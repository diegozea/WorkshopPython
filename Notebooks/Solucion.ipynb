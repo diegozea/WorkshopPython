{
 "cells": [
  {
   "cell_type": "code",
   "execution_count": 1,
   "metadata": {
    "collapsed": false,
    "deletable": true,
    "editable": true
   },
   "outputs": [
    {
     "data": {
      "text/plain": [
       "50.0"
      ]
     },
     "execution_count": 1,
     "metadata": {},
     "output_type": "execute_result"
    }
   ],
   "source": [
    "dna = \"CATGAG\"\n",
    "\n",
    "def porcentaje_cg(secuencia):\n",
    "    n_base = 0.0\n",
    "    n_cg = 0.0\n",
    "    for base in secuencia:\n",
    "        n_base += 1.0\n",
    "        if base == 'C' or base == 'G':\n",
    "            n_cg += 1.0\n",
    "    \n",
    "    return (n_cg / n_base) * 100.0\n",
    "\n",
    "porcentaje_cg(dna)"
   ]
  },
  {
   "cell_type": "code",
   "execution_count": 2,
   "metadata": {
    "collapsed": false
   },
   "outputs": [
    {
     "data": {
      "text/plain": [
       "6"
      ]
     },
     "execution_count": 2,
     "metadata": {},
     "output_type": "execute_result"
    }
   ],
   "source": [
    "len(dna)"
   ]
  },
  {
   "cell_type": "code",
   "execution_count": 3,
   "metadata": {
    "collapsed": false
   },
   "outputs": [
    {
     "name": "stdout",
     "output_type": "stream",
     "text": [
      "Help on built-in function len in module __builtin__:\n",
      "\n",
      "len(...)\n",
      "    len(object) -> integer\n",
      "    \n",
      "    Return the number of items of a sequence or mapping.\n",
      "\n"
     ]
    }
   ],
   "source": [
    "help(len)"
   ]
  },
  {
   "cell_type": "code",
   "execution_count": 4,
   "metadata": {
    "collapsed": false
   },
   "outputs": [
    {
     "data": {
      "text/plain": [
       "50.0"
      ]
     },
     "execution_count": 4,
     "metadata": {},
     "output_type": "execute_result"
    }
   ],
   "source": [
    "def porcentaje_cg(secuencia):\n",
    "    n_cg = 0.0\n",
    "    for base in secuencia:\n",
    "        if base == 'C' or base == 'G':\n",
    "            n_cg += 1.0\n",
    "    \n",
    "    return (n_cg / len(secuencia)) * 100.0\n",
    "\n",
    "porcentaje_cg(dna)"
   ]
  },
  {
   "cell_type": "code",
   "execution_count": 5,
   "metadata": {
    "collapsed": false
   },
   "outputs": [
    {
     "name": "stdout",
     "output_type": "stream",
     "text": [
      "Help on function porcentaje_cg in module __main__:\n",
      "\n",
      "porcentaje_cg(secuencia)\n",
      "\n"
     ]
    }
   ],
   "source": [
    "help(porcentaje_cg)"
   ]
  },
  {
   "cell_type": "code",
   "execution_count": 6,
   "metadata": {
    "collapsed": false
   },
   "outputs": [
    {
     "data": {
      "text/plain": [
       "50.0"
      ]
     },
     "execution_count": 6,
     "metadata": {},
     "output_type": "execute_result"
    }
   ],
   "source": [
    "def porcentaje_cg(secuencia):\n",
    "    \"Toma una secuencia y retorna el porcentaje de GC\"\n",
    "    n_cg = 0.0\n",
    "    for base in secuencia:\n",
    "        if base == 'C' or base == 'G':\n",
    "            n_cg += 1.0\n",
    "    \n",
    "    return (n_cg / len(secuencia)) * 100.0\n",
    "\n",
    "porcentaje_cg(dna)"
   ]
  },
  {
   "cell_type": "code",
   "execution_count": 7,
   "metadata": {
    "collapsed": false
   },
   "outputs": [
    {
     "name": "stdout",
     "output_type": "stream",
     "text": [
      "Help on function porcentaje_cg in module __main__:\n",
      "\n",
      "porcentaje_cg(secuencia)\n",
      "    Toma una secuencia y retorna el porcentaje de GC\n",
      "\n"
     ]
    }
   ],
   "source": [
    "help(porcentaje_cg)"
   ]
  },
  {
   "cell_type": "markdown",
   "metadata": {},
   "source": [
    "# Test"
   ]
  },
  {
   "cell_type": "code",
   "execution_count": 8,
   "metadata": {
    "collapsed": false
   },
   "outputs": [
    {
     "data": {
      "text/plain": [
       "50.0"
      ]
     },
     "execution_count": 8,
     "metadata": {},
     "output_type": "execute_result"
    }
   ],
   "source": [
    "def porcentaje_cg(secuencia):\n",
    "    \"\"\"\n",
    "    Toma una secuencia y retorna el porcentaje de GC\n",
    "    \n",
    "    >>> porcentaje_cg(\"ACTG\")\n",
    "    50.0\n",
    "    >>> porcentaje_cg(\"AATA\")\n",
    "    50.0\n",
    "    \"\"\"\n",
    "    n_cg = 0.0\n",
    "    for base in secuencia:\n",
    "        if base == 'C' or base == 'G':\n",
    "            n_cg += 1.0\n",
    "    \n",
    "    return (n_cg / len(secuencia)) * 100.0\n",
    "\n",
    "porcentaje_cg(dna)"
   ]
  },
  {
   "cell_type": "code",
   "execution_count": 9,
   "metadata": {
    "collapsed": false
   },
   "outputs": [],
   "source": [
    "import doctest"
   ]
  },
  {
   "cell_type": "code",
   "execution_count": 10,
   "metadata": {
    "collapsed": false
   },
   "outputs": [
    {
     "name": "stdout",
     "output_type": "stream",
     "text": [
      "**********************************************************************\n",
      "File \"__main__\", line 7, in __main__.porcentaje_cg\n",
      "Failed example:\n",
      "    porcentaje_cg(\"AATA\")\n",
      "Expected:\n",
      "    50.0\n",
      "Got:\n",
      "    0.0\n",
      "**********************************************************************\n",
      "1 items had failures:\n",
      "   1 of   2 in __main__.porcentaje_cg\n",
      "***Test Failed*** 1 failures.\n"
     ]
    },
    {
     "data": {
      "text/plain": [
       "TestResults(failed=1, attempted=2)"
      ]
     },
     "execution_count": 10,
     "metadata": {},
     "output_type": "execute_result"
    }
   ],
   "source": [
    "doctest.testmod()"
   ]
  },
  {
   "cell_type": "markdown",
   "metadata": {},
   "source": [
    "# Errores"
   ]
  },
  {
   "cell_type": "code",
   "execution_count": 11,
   "metadata": {
    "collapsed": false
   },
   "outputs": [],
   "source": [
    "def check_dna(secuencia):\n",
    "    for base in secuencia:\n",
    "        if base not in ['A','C','T','G']:\n",
    "            raise Exception(base + \" no es una base valida.\")"
   ]
  },
  {
   "cell_type": "code",
   "execution_count": 12,
   "metadata": {
    "collapsed": false
   },
   "outputs": [
    {
     "data": {
      "text/plain": [
       "50.0"
      ]
     },
     "execution_count": 12,
     "metadata": {},
     "output_type": "execute_result"
    }
   ],
   "source": [
    "def porcentaje_cg(secuencia):\n",
    "    \"\"\"\n",
    "    Toma una secuencia y retorna el porcentaje de GC\n",
    "    \n",
    "    >>> porcentaje_cg(\"ACTG\")\n",
    "    50.0\n",
    "    >>> porcentaje_cg(\"AATA\")\n",
    "    0.0\n",
    "    \"\"\"\n",
    "    check_dna(secuencia)\n",
    "    n_cg = 0.0\n",
    "    for base in secuencia:\n",
    "        if base == 'C' or base == 'G':\n",
    "            n_cg += 1.0\n",
    "    \n",
    "    return (n_cg / len(secuencia)) * 100.0\n",
    "\n",
    "porcentaje_cg(dna)"
   ]
  },
  {
   "cell_type": "code",
   "execution_count": 13,
   "metadata": {
    "collapsed": false
   },
   "outputs": [
    {
     "ename": "Exception",
     "evalue": "H no es una base valida.",
     "output_type": "error",
     "traceback": [
      "\u001b[1;31m---------------------------------------------------------------------------\u001b[0m",
      "\u001b[1;31mException\u001b[0m                                 Traceback (most recent call last)",
      "\u001b[1;32m<ipython-input-13-cac13ef001d5>\u001b[0m in \u001b[0;36m<module>\u001b[1;34m()\u001b[0m\n\u001b[1;32m----> 1\u001b[1;33m \u001b[0mporcentaje_cg\u001b[0m\u001b[1;33m(\u001b[0m\u001b[1;34m\"HGLTAC\"\u001b[0m\u001b[1;33m)\u001b[0m\u001b[1;33m\u001b[0m\u001b[0m\n\u001b[0m",
      "\u001b[1;32m<ipython-input-12-19196f02ae80>\u001b[0m in \u001b[0;36mporcentaje_cg\u001b[1;34m(secuencia)\u001b[0m\n\u001b[0;32m      8\u001b[0m     \u001b[1;36m0.0\u001b[0m\u001b[1;33m\u001b[0m\u001b[0m\n\u001b[0;32m      9\u001b[0m     \"\"\"\n\u001b[1;32m---> 10\u001b[1;33m     \u001b[0mcheck_dna\u001b[0m\u001b[1;33m(\u001b[0m\u001b[0msecuencia\u001b[0m\u001b[1;33m)\u001b[0m\u001b[1;33m\u001b[0m\u001b[0m\n\u001b[0m\u001b[0;32m     11\u001b[0m     \u001b[0mn_cg\u001b[0m \u001b[1;33m=\u001b[0m \u001b[1;36m0.0\u001b[0m\u001b[1;33m\u001b[0m\u001b[0m\n\u001b[0;32m     12\u001b[0m     \u001b[1;32mfor\u001b[0m \u001b[0mbase\u001b[0m \u001b[1;32min\u001b[0m \u001b[0msecuencia\u001b[0m\u001b[1;33m:\u001b[0m\u001b[1;33m\u001b[0m\u001b[0m\n",
      "\u001b[1;32m<ipython-input-11-518a9826c7cd>\u001b[0m in \u001b[0;36mcheck_dna\u001b[1;34m(secuencia)\u001b[0m\n\u001b[0;32m      2\u001b[0m     \u001b[1;32mfor\u001b[0m \u001b[0mbase\u001b[0m \u001b[1;32min\u001b[0m \u001b[0msecuencia\u001b[0m\u001b[1;33m:\u001b[0m\u001b[1;33m\u001b[0m\u001b[0m\n\u001b[0;32m      3\u001b[0m         \u001b[1;32mif\u001b[0m \u001b[0mbase\u001b[0m \u001b[1;32mnot\u001b[0m \u001b[1;32min\u001b[0m \u001b[1;33m[\u001b[0m\u001b[1;34m'A'\u001b[0m\u001b[1;33m,\u001b[0m\u001b[1;34m'C'\u001b[0m\u001b[1;33m,\u001b[0m\u001b[1;34m'T'\u001b[0m\u001b[1;33m,\u001b[0m\u001b[1;34m'G'\u001b[0m\u001b[1;33m]\u001b[0m\u001b[1;33m:\u001b[0m\u001b[1;33m\u001b[0m\u001b[0m\n\u001b[1;32m----> 4\u001b[1;33m             \u001b[1;32mraise\u001b[0m \u001b[0mException\u001b[0m\u001b[1;33m(\u001b[0m\u001b[0mbase\u001b[0m \u001b[1;33m+\u001b[0m \u001b[1;34m\" no es una base valida.\"\u001b[0m\u001b[1;33m)\u001b[0m\u001b[1;33m\u001b[0m\u001b[0m\n\u001b[0m",
      "\u001b[1;31mException\u001b[0m: H no es una base valida."
     ]
    }
   ],
   "source": [
    "porcentaje_cg(\"HGLTAC\")"
   ]
  }
 ],
 "metadata": {
  "kernelspec": {
   "display_name": "Python 2",
   "language": "python",
   "name": "python2"
  },
  "language_info": {
   "codemirror_mode": {
    "name": "ipython",
    "version": 2
   },
   "file_extension": ".py",
   "mimetype": "text/x-python",
   "name": "python",
   "nbconvert_exporter": "python",
   "pygments_lexer": "ipython2",
   "version": "2.7.6"
  }
 },
 "nbformat": 4,
 "nbformat_minor": 2
}
