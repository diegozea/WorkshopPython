{
 "cells": [
  {
   "cell_type": "markdown",
   "metadata": {},
   "source": [
    "La manera de **testear** funciones y módulos con Python es usar **[doctests](https://docs.python.org/2/library/doctest.html)**.\n",
    "\n",
    "Si ponen todas las funciones en un módulo, al importarse el módulo podrá usarse en la consola. Es importante ofrecer funciones claras con documentación a través de *doctrings* (que en lo posible deberían contener *tests*). Así que es importante que las funciones tengan un nombre significativo, y parámetros útiles.\n",
    "\n",
    "Un consejo: si necesitan funciones que son partes de otras funciones más grandes y que no esperan que el usuario utilice, pueden comenzar el nombre de esa función con un guión bajo:\n",
    "```python\n",
    "def _privada(x):\n",
    "    return(x)\n",
    "```\n",
    "Python no importa las funciones que comienzan con guion bajo cuando hacemos:\n",
    "```python\n",
    "from mimodulo import *\n",
    "```\n",
    "\n",
    "Los módulos pueden usarse como **[scripts](https://docs.python.org/2/tutorial/modules.html#executing-modules-as-scripts)**, más documentación al respecto está en la sección de **[módulos](https://docs.python.org/2/tutorial/modules.html)** del manual.\n",
    "Para poder parsear los argumentos que pasamos por la línea de comandos, y generar de manera casi automática los mensajes de ayuda y error, es necesario usar **[argparse](https://docs.python.org/2/library/argparse.html)**."
   ]
  },
  {
   "cell_type": "code",
   "execution_count": 1,
   "metadata": {
    "collapsed": false
   },
   "outputs": [
    {
     "name": "stdout",
     "output_type": "stream",
     "text": [
      "\"\"\"\r\n",
      "Modulo ejemplo\r\n",
      "\r\n",
      ">>> ej(\"2\")\r\n",
      "'Hola mundo dos'\r\n",
      ">>> ej()\r\n",
      "'Hola mundo '\r\n",
      "\"\"\"\r\n",
      "\r\n",
      "def ej(s=\"\"):\r\n",
      "\t\"\"\"Ejemplo\r\n",
      "\r\n",
      "\t>>> ej(\"!\")\r\n",
      "\t'Hola mundo !'\r\n",
      "\t\"\"\"\r\n",
      "\treturn( 'Hola mundo ' + s )\r\n",
      "\r\n",
      "if __name__ == \"__main__\":\r\n",
      "\r\n",
      "\timport argparse\r\n",
      "\r\n",
      "\tparser = argparse.ArgumentParser(description='Hola mundo mas algo...')\r\n",
      "\r\n",
      "\tparser.add_argument('Text', metavar='T', type=str, nargs=1,\r\n",
      "                   help='Texto a imprimir')\r\n",
      "\r\n",
      "\targs = parser.parse_args()\r\n",
      "\r\n",
      "\tsalida = ej( args.Text[0] )\r\n",
      "\r\n",
      "\tprint(salida)\r\n"
     ]
    }
   ],
   "source": [
    "! cat ejemplo.py # El nombre del módulo es el nombre del archivo"
   ]
  },
  {
   "cell_type": "markdown",
   "metadata": {},
   "source": [
    "## [argparse](https://docs.python.org/2/library/argparse.html)"
   ]
  },
  {
   "cell_type": "code",
   "execution_count": 2,
   "metadata": {
    "collapsed": false
   },
   "outputs": [
    {
     "name": "stdout",
     "output_type": "stream",
     "text": [
      "usage: ejemplo.py [-h] T\r\n",
      "ejemplo.py: error: too few arguments\r\n"
     ]
    }
   ],
   "source": [
    "! python ejemplo.py "
   ]
  },
  {
   "cell_type": "code",
   "execution_count": 3,
   "metadata": {
    "collapsed": false
   },
   "outputs": [
    {
     "name": "stdout",
     "output_type": "stream",
     "text": [
      "usage: ejemplo.py [-h] T\r\n",
      "\r\n",
      "Hola mundo mas algo...\r\n",
      "\r\n",
      "positional arguments:\r\n",
      "  T           Texto a imprimir\r\n",
      "\r\n",
      "optional arguments:\r\n",
      "  -h, --help  show this help message and exit\r\n"
     ]
    }
   ],
   "source": [
    "! python ejemplo.py -h"
   ]
  },
  {
   "cell_type": "code",
   "execution_count": 4,
   "metadata": {
    "collapsed": false
   },
   "outputs": [
    {
     "name": "stdout",
     "output_type": "stream",
     "text": [
      "Hola mundo cómo estás?\r\n"
     ]
    }
   ],
   "source": [
    "! python ejemplo.py \"cómo estás?\""
   ]
  },
  {
   "cell_type": "markdown",
   "metadata": {},
   "source": [
    "## [doctest](https://docs.python.org/2/library/doctest.html)"
   ]
  },
  {
   "cell_type": "code",
   "execution_count": 5,
   "metadata": {
    "collapsed": false
   },
   "outputs": [
    {
     "name": "stdout",
     "output_type": "stream",
     "text": [
      "**********************************************************************\r\n",
      "File \"ejemplo.py\", line 4, in ejemplo\r\n",
      "Failed example:\r\n",
      "    ej(\"2\")\r\n",
      "Expected:\r\n",
      "    'Hola mundo dos'\r\n",
      "Got:\r\n",
      "    'Hola mundo 2'\r\n",
      "**********************************************************************\r\n",
      "1 items had failures:\r\n",
      "   1 of   2 in ejemplo\r\n",
      "***Test Failed*** 1 failures.\r\n"
     ]
    }
   ],
   "source": [
    "! python -m doctest ejemplo.py"
   ]
  },
  {
   "cell_type": "markdown",
   "metadata": {},
   "source": [
    "## [docstring](https://www.python.org/dev/peps/pep-0257/)"
   ]
  },
  {
   "cell_type": "code",
   "execution_count": 6,
   "metadata": {
    "collapsed": false
   },
   "outputs": [],
   "source": [
    "import ejemplo"
   ]
  },
  {
   "cell_type": "code",
   "execution_count": 7,
   "metadata": {
    "collapsed": false
   },
   "outputs": [
    {
     "name": "stdout",
     "output_type": "stream",
     "text": [
      "Help on module ejemplo:\n",
      "\n",
      "NAME\n",
      "    ejemplo - Modulo ejemplo\n",
      "\n",
      "FILE\n",
      "    /home/dzea/Escritorio/CursosVerano/WorkshopPython/Notebooks/ejemplo.py\n",
      "\n",
      "DESCRIPTION\n",
      "    >>> ej(\"2\")\n",
      "    'Hola mundo dos'\n",
      "    >>> ej()\n",
      "    'Hola mundo '\n",
      "\n",
      "FUNCTIONS\n",
      "    ej(s='')\n",
      "        Ejemplo\n",
      "        \n",
      "        >>> ej(\"!\")\n",
      "        'Hola mundo !'\n",
      "\n",
      "\n"
     ]
    }
   ],
   "source": [
    "help(ejemplo)"
   ]
  },
  {
   "cell_type": "code",
   "execution_count": 8,
   "metadata": {
    "collapsed": false
   },
   "outputs": [
    {
     "name": "stdout",
     "output_type": "stream",
     "text": [
      "Help on function ej in module ejemplo:\n",
      "\n",
      "ej(s='')\n",
      "    Ejemplo\n",
      "    \n",
      "    >>> ej(\"!\")\n",
      "    'Hola mundo !'\n",
      "\n"
     ]
    }
   ],
   "source": [
    "help(ejemplo.ej)"
   ]
  },
  {
   "cell_type": "code",
   "execution_count": 9,
   "metadata": {
    "collapsed": false
   },
   "outputs": [
    {
     "data": {
      "text/plain": [
       "'Hola mundo !'"
      ]
     },
     "execution_count": 9,
     "metadata": {},
     "output_type": "execute_result"
    }
   ],
   "source": [
    "ejemplo.ej(\"!\")"
   ]
  },
  {
   "cell_type": "markdown",
   "metadata": {},
   "source": [
    "# Ejercicio"
   ]
  },
  {
   "cell_type": "markdown",
   "metadata": {},
   "source": [
    "Modificar el script para que de manera opcional reciba un argumento llamado separador, que reemplace al espacio entre *Hola mundo* y lo que el usuario ingrese como primer argumento."
   ]
  },
  {
   "cell_type": "markdown",
   "metadata": {},
   "source": [
    "Modificar además la función para que tome un segundo argumento, en el cual pasaremos el contenido de este nuevo argumento opcional del *script*."
   ]
  },
  {
   "cell_type": "markdown",
   "metadata": {},
   "source": [
    "**Pistas**"
   ]
  },
  {
   "cell_type": "markdown",
   "metadata": {},
   "source": [
    "Si se suman dos o mas  *strings*, el resultado es un *string* de los *string*s concatenados. Por ejemplo:"
   ]
  },
  {
   "cell_type": "code",
   "execution_count": 11,
   "metadata": {
    "collapsed": false
   },
   "outputs": [
    {
     "data": {
      "text/plain": [
       "'Hola mundo'"
      ]
     },
     "execution_count": 11,
     "metadata": {},
     "output_type": "execute_result"
    }
   ],
   "source": [
    "\"Hola\" + \" \" + \"mundo\""
   ]
  },
  {
   "cell_type": "markdown",
   "metadata": {},
   "source": [
    "La siguiente línea de la documentación de argparse define un argumento opcional llamado foo que toma un número entero, si el usuario no define nada, el valor de ese número es 42.\n",
    "```\n",
    "parser.add_argument('--foo', type=int, default=42, help='FOO!')\n",
    "```"
   ]
  }
 ],
 "metadata": {
  "kernelspec": {
   "display_name": "Python 2",
   "language": "python",
   "name": "python2"
  },
  "language_info": {
   "codemirror_mode": {
    "name": "ipython",
    "version": 2
   },
   "file_extension": ".py",
   "mimetype": "text/x-python",
   "name": "python",
   "nbconvert_exporter": "python",
   "pygments_lexer": "ipython2",
   "version": "2.7.6"
  }
 },
 "nbformat": 4,
 "nbformat_minor": 0
}
